{
 "nbformat": 4,
 "nbformat_minor": 0,
 "metadata": {
  "colab": {
   "provenance": [],
   "gpuType": "T4",
   "authorship_tag": "ABX9TyNxsbAjza+Uq51v4mg/PMIV",
   "include_colab_link": true
  },
  "kernelspec": {
   "name": "python3",
   "display_name": "Python 3"
  },
  "language_info": {
   "name": "python"
  },
  "accelerator": "GPU"
 },
 "cells": [
  {
   "cell_type": "markdown",
   "metadata": {
    "id": "view-in-github",
    "colab_type": "text"
   },
   "source": [
    "<a href=\"https://colab.research.google.com/github/IIIIQIIII/MSJ-Factory/blob/main/Qwen2_5_Sentiment_Fine_tuning_Tutorial.ipynb\" target=\"_parent\"><img src=\"https://colab.research.google.com/assets/colab-badge.svg\" alt=\"Open In Colab\"/></a>"
   ]
  },
  {
   "cell_type": "markdown",
   "source": [
    "# Step 1: Clone Project Repository"
   ],
   "metadata": {
    "id": "c7PlEBVa-1CT"
   }
  },
  {
   "cell_type": "code",
   "execution_count": null,
   "metadata": {
    "colab": {
     "base_uri": "https://localhost:8080/"
    },
    "id": "q9KCbzfm-xHj",
    "outputId": "fff952b0-c750-40a7-fb80-f87bc2847cc1"
   },
   "outputs": [
    {
     "output_type": "stream",
     "name": "stdout",
     "text": [
      "============================================================\n",
      "Step 1/5: Cloning MSJ-Factory Repository\n",
      "============================================================\n",
      "Cloning into 'MSJ-Factory'...\n",
      "remote: Enumerating objects: 368, done.\n",
      "remote: Counting objects: 100% (368/368), done.\n",
      "remote: Compressing objects: 100% (263/263), done.\n",
      "remote: Total 368 (delta 94), reused 361 (delta 92), pack-reused 0 (from 0)\n",
      "Receiving objects: 100% (368/368), 6.08 MiB | 11.88 MiB/s, done.\n",
      "Resolving deltas: 100% (94/94), done.\n",
      "/content/MSJ-Factory\n",
      "\n",
      "📂 Project directory contents:\n",
      "total 208K\n",
      "drwxr-xr-x  4 root root 4.0K Oct  9 12:39 assets\n",
      "-rw-r--r--  1 root root 1.4K Oct  9 12:39 CITATION.cff\n",
      "drwxr-xr-x  3 root root 4.0K Oct  9 12:39 data\n",
      "drwxr-xr-x 11 root root 4.0K Oct  9 12:39 examples\n",
      "-rw-r--r--  1 root root  12K Oct  9 12:39 LICENSE\n",
      "-rw-r--r--  1 root root  457 Oct  9 12:39 Makefile\n",
      "-rw-r--r--  1 root root   33 Oct  9 12:39 MANIFEST.in\n",
      "-rw-r--r--  1 root root 1.8K Oct  9 12:39 pyproject.toml\n",
      "-rw-r--r--  1 root root  71K Oct  9 12:39 README.md\n",
      "-rw-r--r--  1 root root  69K Oct  9 12:39 README_zh.md\n",
      "-rw-r--r--  1 root root  555 Oct  9 12:39 requirements.txt\n",
      "drwxr-xr-x  5 root root 4.0K Oct  9 12:39 scripts\n",
      "-rw-r--r--  1 root root 4.2K Oct  9 12:39 setup.py\n",
      "drwxr-xr-x  3 root root 4.0K Oct  9 12:39 src\n",
      "drwxr-xr-x  7 root root 4.0K Oct  9 12:39 tests\n"
     ]
    }
   ],
   "source": [
    "print(\"=\" * 60)\n",
    "print(\"Step 1/5: Cloning MSJ-Factory Repository\")\n",
    "print(\"=\" * 60)\n",
    "\n",
    "!git clone --depth 1 https://github.com/IIIIQIIII/MSJ-Factory.git\n",
    "\n",
    "# Change to project directory\n",
    "%cd MSJ-Factory\n",
    "\n",
    "# Display directory structure\n",
    "print(\"\\n📂 Project directory contents:\")\n",
    "!ls -lh"
   ]
  },
  {
   "cell_type": "markdown",
   "source": [
    "# Step 2: Install Dependencies"
   ],
   "metadata": {
    "id": "2FX7UDNA-8Rs"
   }
  },
  {
   "cell_type": "code",
   "source": [
    "print(\"\\n\" + \"=\" * 60)\n",
    "print(\"Step 2/5: Installing Dependencies (this may take a few minutes)\")\n",
    "print(\"=\" * 60)\n",
    "\n",
    "# Install all dependencies at once\n",
    "!pip install -q -e .[torch,bitsandbytes,vllm]\n",
    "\n",
    "# Verify key libraries installation\n",
    "print(\"\\n✅ Verification Results:\")\n",
    "!python -c \"import torch; print(f'  • PyTorch Version: {torch.__version__}'); print(f'  • CUDA Available: {torch.cuda.is_available()}'); print(f'  • GPU Device: {torch.cuda.get_device_name(0) if torch.cuda.is_available() else \\\"None\\\"}')\"\n",
    "!python -c \"import vllm; print(f'  • vLLM Version: {vllm.__version__}')\"\n",
    "!python -c \"import bitsandbytes; print(f'  • bitsandbytes Version: {bitsandbytes.__version__}')\""
   ],
   "metadata": {
    "colab": {
     "base_uri": "https://localhost:8080/"
    },
    "id": "SvgQwfiz-6au",
    "outputId": "f9b9c7a9-ad4e-4400-dc1e-770769e58a86"
   },
   "execution_count": null,
   "outputs": [
    {
     "output_type": "stream",
     "name": "stdout",
     "text": [
      "\n",
      "============================================================\n",
      "Step 2/5: Installing Dependencies (this may take a few minutes)\n",
      "============================================================\n",
      "  Installing build dependencies ... done\n",
      "  Checking if build backend supports build_editable ... done\n",
      "  Getting requirements to build editable ... done\n",
      "  Preparing editable metadata (pyproject.toml) ... done\n",
      "     ━━━━━━━━━━━━━━━━━━━━━━━━━━━━━━━━━━━━━━━━ 61.0/61.0 kB 4.1 MB/s eta 0:00:00\n",
      "     ━━━━━━━━━━━━━━━━━━━━━━━━━━━━━━━━━━━━━━━━ 40.4/40.4 kB 3.8 MB/s eta 0:00:00\n",
      "     ━━━━━━━━━━━━━━━━━━━━━━━━━━━━━━━━━━━━━━ 790.6/790.6 kB 22.2 MB/s eta 0:00:00\n",
      "  Installing build dependencies ... done\n",
      "  Getting requirements to build wheel ... done\n",
      "  Preparing metadata (pyproject.toml) ... done\n",
      "     ━━━━━━━━━━━━━━━━━━━━━━━━━━━━━━━━━━━━━━ 743.2/743.2 kB 53.9 MB/s eta 0:00:00\n",
      "  Installing build dependencies ... done\n",
      "  Getting requirements to build wheel ... done\n",
      "  Preparing metadata (pyproject.toml) ... done\n",
      "     ━━━━━━━━━━━━━━━━━━━━━━━━━━━━━━━━━━━━━━ 726.3/726.3 kB 53.4 MB/s eta 0:00:00\n",
      "  Installing build dependencies ... done\n",
      "  Getting requirements to build wheel ... done\n",
      "  Preparing metadata (pyproject.toml) ... done\n",
      "     ━━━━━━━━━━━━━━━━━━━━━━━━━━━━━━━━━━━━━━ 693.2/693.2 kB 49.7 MB/s eta 0:00:00\n",
      "  Installing build dependencies ... done\n",
      "  Getting requirements to build wheel ... done\n",
      "  Preparing metadata (pyproject.toml) ... done\n",
      "   ━━━━━━━━━━━━━━━━━━━━━━━━━━━━━━━━━━━━━━━━ 60.1/60.1 MB 21.8 MB/s eta 0:00:00\n",
      "   ━━━━━━━━━━━━━━━━━━━━━━━━━━━━━━━━━━━━━━━━ 60.4/60.4 MB 11.9 MB/s eta 0:00:00\n",
      "   ━━━━━━━━━━━━━━━━━━━━━━━━━━━━━━━━━━━━━━━━ 325.0/325.0 kB 28.6 MB/s eta 0:00:00\n",
      "   ━━━━━━━━━━━━━━━━━━━━━━━━━━━━━━━━━━━━━━━━ 5.9/5.9 MB 140.3 MB/s eta 0:00:00\n",
      "...\n(output truncated)\n...\n",
      "   ━━━━━━━━━━━━━━━━━━━━━━━━━━━━━━━━━━━━━━━━ 951.1/951.1 kB 45.9 MB/s eta 0:00:00\n",
      "  Building editable for llamafactory (pyproject.toml) ... done\n",
      "ERROR: pip's dependency resolver does not currently take into account all the packages that are installed. This behaviour is the source of the following dependency conflicts.\n",
      "ipython 7.34.0 requires jedi>=0.16, which is not installed.\n",
      "thinc 8.3.6 requires numpy<3.0.0,>=2.0.0, but you have numpy 1.26.4 which is incompatible.\n",
      "opencv-python 4.12.0.88 requires numpy<2.3.0,>=2; python_version >= \"3.9\", but you have numpy 1.26.4 which is incompatible.\n",
      "mcp 1.15.0 requires pydantic<3.0.0,>=2.11.0, but you have pydantic 2.10.6 which is incompatible.\n",
      "opencv-contrib-python 4.12.0.88 requires numpy<2.3.0,>=2; python_version >= \"3.9\", but you have numpy 1.26.4 which is incompatible.\n",
      "\n",
      "✅ Verification Results:\n",
      "  • PyTorch Version: 2.7.1+cu126\n",
      "  • CUDA Available: True\n",
      "  • GPU Device: Tesla T4\n",
      "  • vLLM Version: 0.10.0\n",
      "  • bitsandbytes Version: 0.48.1\n"
     ]
    }
   ]
  },
  {
   "cell_type": "markdown",
   "source": [
    "# Step 3: Model Training"
   ],
   "metadata": {
    "id": "7c9CsMVt_EEG"
   }
  },
  {
   "cell_type": "code",
   "source": [
    "print(\"\\n\" + \"=\" * 60)\n",
    "print(\"Step 3/5: Starting Model Fine-tuning\")\n",
    "print(\"=\" * 60)\n",
    "print(\"📝 Training Config: examples/train_freeze/qwen2_5_coder_freeze_3k.yaml\")\n",
    "print(\"⏱️  Estimated Time: 15-30 minutes (depending on GPU)\\n\")\n",
    "\n",
    "# Optional: Preview training configuration\n",
    "print(\"📄 Training Configuration Preview:\")\n",
    "!head -n 5 examples/train_freeze/qwen2_5_coder_freeze_3k.yaml\n",
    "\n",
    "print(\"\\n🚀 Starting training...\\n\")\n",
    "!llamafactory-cli train examples/train_freeze/qwen2_5_coder_freeze_3k.yaml"
   ],
   "metadata": {
    "colab": {
     "base_uri": "https://localhost:8080/"
    },
    "id": "jl9xBOJ1_BfL",
    "outputId": "238c0eaf-5563-4f38-cfc1-61c1b573fc76"
   },
   "execution_count": null,
   "outputs": [
    {
     "output_type": "stream",
     "name": "stdout",
     "text": [
      "\n",
      "============================================================\n",
      "Step 3/5: Starting Model Fine-tuning\n",
      "============================================================\n",
      "📝 Training Config: examples/train_freeze/qwen2_5_coder_freeze_3k.yaml\n",
      "⏱️  Estimated Time: 15-30 minutes (depending on GPU)\n",
      "\n",
      "📄 Training Configuration Preview:\n",
      "### model\n",
      "model_name_or_path: Qwen/Qwen2.5-Coder-1.5B-Instruct\n",
      "trust_remote_code: true\n",
      "\n",
      "### method\n",
      "\n",
      "🚀 Starting training...\n",
      "\n",
      "2025-10-09 12:56:19.878121: E external/local_xla/xla/stream_executor/cuda/cuda_fft.cc:467] Unable to register cuFFT factory: Attempting to register factory for plugin cuFFT when one has already been registered\n",
      "WARNING: All log messages before absl::InitializeLog() is called are written to STDERR\n",
      "E0000 00:00:1760014580.129067    5078 cuda_dnn.cc:8579] Unable to register cuDNN factory: Attempting to register factory for plugin cuDNN when one has already been registered\n",
      "E0000 00:00:1760014580.197186    5078 cuda_blas.cc:1407] Unable to register cuBLAS factory: Attempting to register factory for plugin cuBLAS when one has already been registered\n",
      "W0000 00:00:1760014580.706239    5078 computation_placer.cc:177] computation placer already registered. Please check linkage and avoid linking the same target more than once.\n",
      "W0000 00:00:1760014580.706282    5078 computation_placer.cc:177] computation placer already registered. Please check linkage and avoid linking the same target more than once.\n",
      "W0000 00:00:1760014580.706286    5078 computation_placer.cc:177] computation placer already registered. Please check linkage and avoid linking the same target more than once.\n",
      "W0000 00:00:1760014580.706290    5078 computation_placer.cc:177] computation placer already registered. Please check linkage and avoid linking the same target more than once.\n",
      "2025-10-09 12:56:20.750051: I tensorflow/core/platform/cpu_feature_guard.cc:210] This TensorFlow binary is optimized to use available CPU instructions in performance-critical operations.\n",
      "To enable the following instructions: AVX2 AVX512F FMA, in other operations, rebuild TensorFlow with the appropriate compiler flags.\n",
      "/usr/local/lib/python3.12/dist-packages/jieba/__init__.py:44: SyntaxWarning: invalid escape sequence '\\.'\n",
      "  re_han_default = re.compile(\"([\\u4E00-\\u9FD5a-zA-Z0-9+#&\\._%\\-]+)\", re.U)\n",
      "/usr/local/lib/python3.12/dist-packages/jieba/__init__.py:46: SyntaxWarning: invalid escape sequence '\\s'\n",
      "  re_skip_default = re.compile(\"(\\r\\n|\\s)\", re.U)\n",
      "...\n(output truncated)\n...\n",
      "  warnings.warn(\n",
      "[INFO|trainer.py:4623] 2025-10-09 14:34:29,954 >> \n",
      "***** Running Evaluation *****\n",
      "[INFO|trainer.py:4625] 2025-10-09 14:34:29,954 >>   Num examples = 400\n",
      "[INFO|trainer.py:4628] 2025-10-09 14:34:29,954 >>   Batch size = 1\n",
      "100% 400/400 [02:06<00:00,  3.15it/s]\n",
      "***** eval metrics *****\n",
      "  epoch                   =        1.0\n",
      "  eval_accuracy           =      0.998\n",
      "  eval_loss               =     0.0053\n",
      "  eval_runtime            = 0:02:07.78\n",
      "  eval_samples_per_second =       3.13\n",
      "  eval_steps_per_second   =       3.13\n",
      "[INFO|modelcard.py:456] 2025-10-09 14:36:37,736 >> Dropping the following result as it does not have all the necessary fields:\n",
      "{'task': {'name': 'Causal Language Modeling', 'type': 'text-generation'}, 'metrics': [{'name': 'Accuracy', 'type': 'accuracy', 'value': 0.99796875}]}\n"
     ]
    }
   ]
  },
  {
   "cell_type": "markdown",
   "source": [
    "# Step 4: Model Evaluation"
   ],
   "metadata": {
    "id": "anHh55sM_S2J"
   }
  },
  {
   "cell_type": "code",
   "source": [
    "print(\"\\n\" + \"=\" * 60)\n",
    "print(\"Step 4/5: Evaluating Model Performance\")\n",
    "print(\"=\" * 60)\n",
    "print(\"📊 Comparing sentiment analysis performance before and after fine-tuning\\n\")\n",
    "\n",
    "!python scripts/eval_sentiment_compare.py \\\n",
    "    --csv_path data/ChnSentiCorp_test.csv \\\n",
    "    --base_model Qwen/Qwen2.5-Coder-1.5B-Instruct \\\n",
    "    --finetuned_model saves/qwen2_5-coder-1.5b/freeze/sft \\\n",
    "    --output_file data/sentiment_comparison_results.json\n",
    "\n",
    "print(\"\\n📈 Evaluation results saved to: data/sentiment_comparison_results.json\")\n",
    "print(\"You can review this file to see the improvement from fine-tuning\")"
   ],
   "metadata": {
    "colab": {
     "base_uri": "https://localhost:8080/"
    },
    "id": "dJD1E36B_Tzh",
    "outputId": "31a7919c-f76a-42ae-8bb9-342ab9cc97a5"
   },
   "execution_count": null,
   "outputs": [
    {
     "output_type": "stream",
     "name": "stdout",
     "text": [
      "\n",
      "============================================================\n",
      "Step 4/5: Evaluating Model Performance\n",
      "============================================================\n",
      "📊 Comparing sentiment analysis performance before and after fine-tuning\n",
      "\n",
      "📁 Loading dataset: data/ChnSentiCorp_test.csv\n",
      "Dataset size: 179 samples\n",
      "Label distribution:\n",
      "label\n",
      "0    96\n",
      "1    83\n",
      "Name: count, dtype: int64\n",
      "\n",
      "🚀 ================================================================== 🚀\n",
      "  ChnSentiCorp Sentiment Analysis - Pre/Post Fine-tuning Comparison\n",
      "🚀 ================================================================== 🚀\n",
      "\n",
      "======================================================================\n",
      "🔍 Evaluating Model: Base Model (Pre-finetuning)\n",
      "📂 Model Path: Qwen/Qwen2.5-Coder-1.5B-Instruct\n",
      "======================================================================\n",
      "\n",
      "Loading model...\n",
      "2025-10-09 14:39:01.874273: E external/local_xla/xla/stream_executor/cuda/cuda_fft.cc:467] Unable to register cuFFT factory: Attempting to register factory for plugin cuFFT when one has already been registered\n",
      "WARNING: All log messages before absl::InitializeLog() is called are written to STDERR\n",
      "E0000 00:00:1760020742.051606   31426 cuda_dnn.cc:8579] Unable to register cuDNN factory: Attempting to register factory for plugin cuDNN when one has already been registered\n",
      "E0000 00:00:1760020742.100742   31426 cuda_blas.cc:1407] Unable to register cuBLAS factory: Attempting to register factory for plugin cuBLAS when one has already been registered\n",
      "W0000 00:00:1760020742.471501   31426 computation_placer.cc:177] computation placer already registered. Please check linkage and avoid linking the same target more than once.\n",
      "W0000 00:00:1760020742.471535   31426 computation_placer.cc:177] computation placer already registered. Please check linkage and avoid linking the same target more than once.\n",
      "...\n(output truncated)\n...\n",
      "Recall              83.13%     95.18% ↑   12.05%      14.50%\n",
      "F1-Score            90.20%     97.53% ↑    7.33%       8.13%\n",
      "----------------------------------------------------------------------\n",
      "\n",
      "💾 Complete evaluation results saved to: data/sentiment_comparison_results.json\n",
      "\n",
      "dataset:         ChnSentiCorp\n",
      "dataset_path:    data/ChnSentiCorp_test.csv\n",
      "total_samples:   179\n",
      "evaluation_time: 2025-10-09 14:38:58\n",
      "models:          {\"base\": {\"model_name\": \"Base Model (Pre-finetuning)\", \"model_path\": \"Qwen/Qwen2.5-Coder-1.5B-Instruct\", \"total\": 179, \"correct\": 164, \"parse_failed\": 0, \"true_positives\": 69, \"true_negatives\": 95, \"false_positives\": 1, \"false_negatives\": 14, \"predictions\": [{\"qid\": 990, \"text\": \"?款?子只能?Vista，才能?示??卡，如果?XP，??就不被??出?，?句??，只有集成?卡被??，Vista的系?很大，占10多G，整???都很慢，很苦?，?在?盼???快推出XP的?卡??\", \"true_label\": 0, \"predicted_label\": 0, \"is_correct\": true, \"response\": \"```json\\n{\\n  \\\"sentiment\\\": 0\\n}\\n```\"}, {\"qid\": 815, \"text\": \"3月1号订的,3月15号还没到货 客服每天说下个工作日能到货已经连续5天了 我无语。想早点儿看这本书的人还是去陶宝或卓越上订吧,尤其是广东省的朋友.当当送货太没保证了.\", \"true_label\": 0, \"predicted_label\": 0, \"is_correct\": true, \"response\": \"```json\\n{\\n  \\\"sentiment\\\": 0\\n}\\n```\"}, {\"qid\": 196, \"text\": \"该死的亮点一个， 没有操作系统或者是我不会弄， 京东的送货速度啊！！！！不说了\", \"true_label\": 0, \"predicted_label\": 0, \"is_correct\": true, \"response\": \"```json\\n{\\n  \\\"sentiment\\\": 0\\n}\\n```\"}, {\"qid\": 142, \"text\": \"希望大家也能像我一样，每家酒店都能尝试的住一下，因为每个酒店都各有特色\", \"true_label\": 1, \"predicted_label\": 1, \"is_correct\": true, \"response\": \"```json\\n{\\n  \\\"sentiment\\\": 1\\n}\\n```\"}, {\"qid\": 1185, \"text\": \"这是一本与书有关的书，这是一本读书人要读的书，书中的故事记录读书人读书，买书，淘书、藏书的经历，给了我们后学者很多的启示。让我们更加珍惜我们现在的读书环境。我们现在只要想读书，就能读到。更要可以利用网...\", \"true_label\": 1, \"predicted_label\": 1, \"is_correct\": true, \"response\": \"```json\\n{\\n  \\\"sentiment\\\": 1\\n}\\n```\"}, {\"qid\": 900, \"text\": \"买这本书就是因为时寒冰，看过他的博客，也看过他的电视节目。一是为老百姓说话，对民生问题情之切切；二是对经济现象和历史数据了如指掌，用数据说话，用事实说话，而不是人云亦云；三是如同战士，如同刺刀，插向利...\", \"true_label\": 1, \"predicted_label\": 1, \"is_correct\": true, \"response\": \"```json\\n{\\n  \\\"sentiment\\\": 1\\n}\\n```\"}, {\"qid\": 215, \"text\": \"配置比较均匀、性价比高。 配置的安装盘比较丰富。 赠送的鼠标、屏幕擦布等很贴心。\", \"true_label\": 1, \"predicted_label\": 1, \"is_correct\": true, \"response\": \"```json\\n{\\n  \\\"sentiment\\\": 1\\n}\\n```\"}, {\"qid\": 123, \"text\": \"元旦前住的，川妹子服務意识很强，很细心。问一答二三，想得比客人超前。房间有些陈旧，但洗澡和空調都OK. 溫泉沒泡上有些遺憾，泡上的朋友说不错。我去捏脚了，技術很好，喜歡。\", \"true_label\": 1, \"predicted_label\": 1, \"is_correct\": true, \"response\": \"```json\\n{\\n  \\\"sentiment\\\": 1\\n}\\n```\"}, {\"qid\": 65, \"text\": \"酒店前台服务差，对待客人不热情。号称携程没有预定。感觉是客人在求他们，我们一定得住。这样的宾馆下次不会入住！\", \"true_label\": 0, \"predicted_label\": 0, \"is_correct\": true, \"response\": \"```json\\n{\\n  \\\"sentiment\\\": 0\\n}\\n```\"}, {\"qid\": 279, \"text\": \"根本就是家庭旅馆..还298+12基金...我去的时候刚好是国庆他们说在装修,把我安排在前面的民宅一样的地方..刚开始带我去6号楼，妈的根本不是人住的破..然后把我带回8号楼.大一点..而且这个地方离...\", \"true_label\": 0, \"predicted_label\": 0, \"is_correct\": true, \"response\": \"```json\\n{\\n  \\\"sentiment\\\": 0\\n}\\n```\"}, {\"qid\": 710, \"text\": \"外观时尚，白色的键盘用起来是相当的拉风。机器的配置在同等价位的品牌里属于最高的了。\", \"true_label\": 1, \"predicted_label\": 1, \"is_correct\": true, \"response\": \"```json\\n{\\n  \\\"sentiment\\\": 1\\n}\\n```\"}, {\"qid\": 1177, \"text\": \"房间很干净的，住的朝南的房间，太阳照进来很舒服，现在可以上网了，网速也不错的说。宾馆的交通老方便，闹中取静的地方。月坛北街上的护国寺小吃我也老喜欢的。宾馆里提供10元的午餐和晚餐也不错。缺点么，就是隔...\", \"true_label\": 1, \"predicted_label\": 1, \"is_correct\": true, \"response\": \"```json\\n{\\n  \\\"sentiment\\\": 1\\n}\\n```\"}, {\"qid\": 260, \"text\": \"价格便宜的好像是1号楼，太差，空调无暖气，无宽带，千万不要住。可以推荐汽车站对面交通局开的宾馆，有宽带。也方便。龙岩象个县级市，不好打的士。 宾馆反馈 2008年3月12日 ： 1号楼中央空调，含暖气...\", \"true_label\": 0, \"predicted_label\": 0, \"is_correct\": true, \"response\": \"```json\\n{\\n  \\\"sentiment\\\": 0\\n}\\n```\"}, {\"qid\": 330, \"text\": \"这是多么不可思议的书，多么不可思议的发现，给我极大的震撼，开始是在朋友处看到，书中作者并未告诉我什么，只是把一张张照片摆出来，让读者自己体味，但是就像书名，水告知我们答案，就连我们看来没有生命的水也如...\", \"true_label\": 1, \"predicted_label\": 1, \"is_correct\": true, \"response\": \"```json\\n{\\n  \\\"sentiment\\\": 1\\n}\\n```\"}, {\"qid\": 441, \"text\": \"我们因为相爱而结婚了，随着时间的流逝，为什么相爱的人之间战火纷飞，彼此却又感到委屈呢？俗话说，相爱容易相守难。我们要做些什么，才能使夫妻相处得愉快，渐入佳境呢？读了这本广为相传的书，原来答案就是夫妻双...\", \"true_label\": 1, \"predicted_label\": 1, \"is_correct\": true, \"response\": \"```json\\n{\\n  \\\"sentiment\\\": 1\\n}\\n```\"}, {\"qid\": 359, \"text\": \"普通游客旅馆 还三星 让我伤心 店名好大 奇差无比 补充点评 2006年12月8日 ： 还说有地下车库 谁敢下去 晕 狭小 黑暗 要卡壳儿的 CTRIP上怎么让它这么忽悠顾客的 ？！！！！！！！\", \"true_label\": 0, \"predicted_label\": 0, \"is_correct\": true, \"response\": \"```json\\n{\\n  \\\"sentiment\\\": 0\\n}\\n```\"}, {\"qid\": 1194, \"text\": \"安意如，同样是感性的女子。一个才女，就如她自己形容的一样，一流的才女，即使隔了千年时光，心智也是有共通的，身上流落的气息韵致，像老房子里留下的檀香木衣柜，总是高大沉厚的样式，何时打开来，都迷茫着淡淡香...\", \"true_label\": 1, \"predicted_label\": 1, \"is_correct\": true, \"response\": \"```json\\n{\\n  \\\"sentiment\\\": 1\\n}\\n```\"}, {\"qid\": 324, \"text\": \"我是11月29日入住,12月1日离店的,由于我本人不慎将新买的皮鞋和一个仪器上的配件忘记在宾馆了,我给他们打电话,前台胡小姐态度很好又很耐心,在此表示感谢! 但不知道为什么,前台的人就是找不到,我后来...\", \"true_label\": 0, \"predicted_label\": 0, \"is_correct\": true, \"response\": \"```json\\n{\\n  \\\"sentiment\\\": 0\\n}\\n```\"}, {\"qid\": 728, \"text\": \"很怀疑五星酒店的评价标准。三星都不如，很失望！\", \"true_label\": 0, \"predicted_label\": 0, \"is_correct\": true, \"response\": \"```json\\n{\\n  \\\"sentiment\\\": 0\\n}\\n```\"}, {\"qid\": 84, \"text\": \"觉得作者的观点跟自己完全相反，很难认同作者的观点啊！可能有文化和地域差异吧！买了十几本书，觉得这本书最没用，唉！浪费钱了！\", \"true_label\": 0, \"predicted_label\": 0, \"is_correct\": true, \"response\": \"```json\\n{\\n  \\\"sentiment\\\": 0\\n}\\n```\"}, {\"qid\": 166, \"text\": \"装个XP住哪个的我头痛，依然没有成功，放弃了！还是装了vista，凑合着用吧，习惯了就没问题了！\", \"true_label\": 0, \"predicted_label\": 0, \"is_correct\": true, \"response\": \"```json\\n{\\n  \\\"sentiment\\\": 0\\n}\\n```\"}, {\"qid\": 1083, \"text\": \"酒店条件非常差！明明说有网络，就是用不了！而且蟑螂成堆，永远不会选择这个酒店了！！！ 补充点评 2007年7月20日 ： 极差！！！！\", \"true_label\": 0, \"predicted_label\": 0, \"is_correct\": true, \"response\": \"```json\\n{\\n  \\\"sentiment\\\": 0\\n}\\n```\"}, {\"qid\": 841, \"text\": \"看网评以为是不错的一本书，感觉一定要看，否则怕20几岁时错过后悔。可是看了感觉没什么内容，有点上当的感觉，不喜欢，内容挺肤浅的，写的很现实，却有些乏味。\", \"true_label\": 0, \"predicted_label\": 0, \"is_correct\": true, \"response\": \"```json\\n{\\n  \\\"sentiment\\\": 0\\n}\\n```\"}, {\"qid\": 742, \"text\": \"价格在贵阳算便宜的，不过房间太旧，够大，空调暖风白天不开，生气！\", \"true_label\": 0, \"predicted_label\": 0, \"is_correct\": true, \"response\": \"```json\\n{\\n  \\\"sentiment\\\": 0\\n}\\n```\"}, {\"qid\": 1128, \"text\": \"房间老旧,床单在要求下才更换了一张干净的,明明有双人房,前台却告之只有豪华套间.服务员以为客人听不懂广东话,私下里说:他订了套房不能给她改,真是岂有此理! 宾馆反馈 2008年3月4日 ： 谢谢您的宝...\", \"true_label\": 0, \"predicted_label\": 0, \"is_correct\": true, \"response\": \"```json\\n{\\n  \\\"sentiment\\\": 0\\n}\\n```\"}, {\"qid\": 389, \"text\": \"很满意这次的选择。金版纳真是性价比极高。离开市中心又很近，早餐也比较丰富。别墅型的房屋让人回归自然。这个3星货真价实的\", \"true_label\": 1, \"predicted_label\": 1, \"is_correct\": true, \"response\": \"```json\\n{\\n  \\\"sentiment\\\": 1\\n}\\n```\"}, {\"qid\": 342, \"text\": \"机器不错。。。比想象中的，好，本来以为没有鼠标，没想到还带个，很好很强大\", \"true_label\": 1, \"predicted_label\": 1, \"is_correct\": true, \"response\": \"```json\\n{\\n  \\\"sentiment\\\": 1\\n}\\n```\"}, {\"qid\": 231, \"text\": \"不知算不算问题，就是合上本本的时候，缝隙有点大。不过也没有什么影响。\", \"true_label\": 0, \"predicted_label\": 0, \"is_correct\": true, \"response\": \"```json\\n{\\n  \\\"sentiment\\\": 0\\n}\\n```\"}, {\"qid\": 275, \"text\": \"不如新开张时候好了，房间的地毯比较脏，网速是很慢的，电视的操作也非常不人性化。 淋浴的地漏下水很慢，一不小心就要水漫金山！ 酒店内的按摩和足疗的价格就是让你去一次再也不要去第二次，而且会一直鼓动你增加...\", \"true_label\": 0, \"predicted_label\": 0, \"is_correct\": true, \"response\": \"```json\\n{\\n  \\\"sentiment\\\": 0\\n}\\n```\"}, {\"qid\": 1081, \"text\": \"出于对海航系统的好感，虽条件并不出众，早餐简陋，（同等价格可以选择宝华大酒店、康年皇冠大酒店等很多条件更好的酒店）但仍第二次入住，提前预订同样房型（豪华商务大床房），价格也一样；但入住时（较晚到酒店）...\", \"true_label\": 0, \"predicted_label\": 0, \"is_correct\": true, \"response\": \"```json\\n{\\n  \\\"sentiment\\\": 0\\n}\\n```\"}, {\"qid\": 484, \"text\": \"作为一本描写过去年代感情生活的小说，作者明显生活经验不足，并且文字功底极其一般，看后感觉浪费时间，不值得看，也不推荐。张贤亮，梁晓声等写作大家叙述的过去时光似乎更让人怀念和感慨，此书明显不是一个档次的...\", \"true_label\": 0, \"predicted_label\": 0, \"is_correct\": true, \"response\": \"```json\\n{\\n  \\\"sentiment\\\": 0\\n}\\n```\"}, {\"qid\": 103, \"text\": \"最早认识张曼娟，是在张清芳的CD上边，作为一位写词人。细腻的文字连歌词也写得像情书，小女人的楚楚婉婉。后来才知道，张曼娟也是作家。于是，开始计划读她的书，挑了这本很奇怪的名字。《张曼娟妖物志》——写妖...\", \"true_label\": 1, \"predicted_label\": 0, \"is_correct\": false, \"response\": \"```json\\n{\\n  \\\"sentiment\\\": 0\\n}\\n```\"}, {\"qid\": 309, \"text\": \"［荐书］因为噼里啪啦很好，已经买了好多本送人了呢\", \"true_label\": 1, \"predicted_label\": 0, \"is_correct\": false, \"response\": \"```json\\n{\\n  \\\"sentiment\\\": 0\\n}\\n```\"}, {\"qid\": 217, \"text\": \"华硕的笔记本我都在京东买了两台了。没想到华硕的机子在京东性价比这么高。\", \"true_label\": 1, \"predicted_label\": 1, \"is_correct\": true, \"response\": \"```json\\n{\\n  \\\"sentiment\\\": 1\\n}\\n```\"}, {\"qid\": 301, \"text\": \"老店还比较值得信赖，下次入住还可以考虑这里的。 宾馆反馈 2008年7月31日 ： 尊敬的各位宾客:大家好！感谢您们前期选择入住新疆屯河华美达酒店及对本酒店的评价,对于前期大家入住本酒店未能达到满意，...\", \"true_label\": 1, \"predicted_label\": 1, \"is_correct\": true, \"response\": \"```json\\n{\\n  \\\"sentiment\\\": 1\\n}\\n```\"}, {\"qid\": 410, \"text\": \"空气好是没有话说的。鱼疗减少了很多的死皮。温泉的确是室外的好（虽然不是很深，人是不能站起来的），但是服务上要加强的地方太多了。 第一，早餐9：30要结束，我大约9：25左右到餐厅，餐厅的迎宾没有事先告...\", \"true_label\": 0, \"predicted_label\": 0, \"is_correct\": true, \"response\": \"```json\\n{\\n  \\\"sentiment\\\": 0\\n}\\n```\"}, {\"qid\": 564, \"text\": \"不知道为什么开机的时候光驱的声儿特别大，而且装了vista，很慢，很不习惯，且只有一个区，还是花了一个晚上换成了XP，用起来速度还能说得过去。\", \"true_label\": 0, \"predicted_label\": 0, \"is_correct\": true, \"response\": \"```json\\n{\\n  \\\"sentiment\\\": 0\\n}\\n```\"}, {\"qid\": 232, \"text\": \"我觉得这是一本很不错的书呢。首先它是基于历史事件的基础上虚构出来的爱情故事。我觉得很是感人。看完这本书，我认识到了之前对于这场上海的历史缺失的知识。如果想要研究历史，但是又觉得纯历史书很闷得话，那么我...\", \"true_label\": 1, \"predicted_label\": 1, \"is_correct\": true, \"response\": \"```json\\n{\\n  \\\"sentiment\\\": 1\\n}\\n```\"}, {\"qid\": 512, \"text\": \"承诺的第二日送货根本实现不了，我已经等了2天了，问客服也是敷衍说再联系，到现在也没人联系\", \"true_label\": 0, \"predicted_label\": 0, \"is_correct\": true, \"response\": \"```json\\n{\\n  \\\"sentiment\\\": 0\\n}\\n```\"}, {\"qid\": 417, \"text\": \"本来是订的3个晚上，住了2个晚上实在受不了了，我到贵阳的第一个晚上是住在锦江鲜花酒店，第二天委托携程帮我定3个晚上在瑞金酒店，电视比我11年前结婚的电视还破，服务员素质太差了，连基本的礼貌也没有，好象...\", \"true_label\": 0, \"predicted_label\": 0, \"is_correct\": true, \"response\": \"```json\\n{\\n  \\\"sentiment\\\": 0\\n}\\n```\"}, {\"qid\": 603, \"text\": \"送货超级快，周五下班前下的订单，周六上午就送到家了，赞一个哈~~体积比较小\", \"true_label\": 1, \"predicted_label\": 1, \"is_correct\": true, \"response\": \"```json\\n{\\n  \\\"sentiment\\\": 1\\n}\\n```\"}, {\"qid\": 1115, \"text\": \"稳定、噪音小、发热也小，屏幕看起来很舒服，亮而不刺眼，感觉很润。键盘手感也不错。\", \"true_label\": 1, \"predicted_label\": 1, \"is_correct\": true, \"response\": \"```json\\n{\\n  \\\"sentiment\\\": 1\\n}\\n```\"}, {\"qid\": 893, \"text\": \"都是谁说的好啊，我也买了。可是看不懂，我妈看了也说没啥用。哎。。。。。。。。\", \"true_label\": 0, \"predicted_label\": 0, \"is_correct\": true, \"response\": \"```json\\n{\\n  \\\"sentiment\\\": 0\\n}\\n```\"}, {\"qid\": 1176, \"text\": \"绝对是指纹收集器，太容易留下指纹了，另外如果想增加内存，其实，很难！\", \"true_label\": 0, \"predicted_label\": 0, \"is_correct\": true, \"response\": \"```json\\n{\\n  \\\"sentiment\\\": 0\\n}\\n```\"}, {\"qid\": 733, \"text\": \"我们是在2008年春节入住该酒店的.就这价格来说:总体感觉不错.但二次无法用门卡开门,最后麻烦服务员开的.他们的服务态度不错,这点值得表扬.卫生间小了点.如果再次回襄樊,金城仍是我们的首选(当然如他们...\", \"true_label\": 1, \"predicted_label\": 1, \"is_correct\": true, \"response\": \"```json\\n{\\n  \\\"sentiment\\\": 1\\n}\\n```\"}, {\"qid\": 101, \"text\": \"电源续航能力不足 使用支票时时间太久，用了一个多礼拜 应该针对高级客户使用“付支票、即可取现货”，不要象现在这样必须到账才给货。\", \"true_label\": 0, \"predicted_label\": 0, \"is_correct\": true, \"response\": \"```json\\n{\\n  \\\"sentiment\\\": 0\\n}\\n```\"}, {\"qid\": 975, \"text\": \"白色钢琴烤漆很漂亮，声音效果很棒，对于用来上上网，做些文字办公，看看电影，只要不超级大片的完全够用了，关键是便捷性很好。电池在连续办公时用了5个半小时\", \"true_label\": 1, \"predicted_label\": 1, \"is_correct\": true, \"response\": \"```json\\n{\\n  \\\"sentiment\\\": 1\\n}\\n```\"}, {\"qid\": 62, \"text\": \"完美屏，声音也不错，游戏性能也不错，散热好。硬盘几乎听不见声音。\", \"true_label\": 1, \"predicted_label\": 1, \"is_correct\": true, \"response\": \"```json\\n{\\n  \\\"sentiment\\\": 1\\n}\\n```\"}, {\"qid\": 989, \"text\": \"不知道为什么这么多人喜欢，我一点儿都看不动，什么穴位，针灸，离我太遥远，可能懂医的人会更好理解，正二手书在淘宝上卖哪，不知道卖得出去吗？根本没翻几页，跟买来时一样新。\", \"true_label\": 0, \"predicted_label\": 0, \"is_correct\": true, \"response\": \"```json\\n{\\n  \\\"sentiment\\\": 0\\n}\\n```\"}, {\"qid\": 858, \"text\": \"好书！父母读给孩子听之前自己应先通读一遍，以避免作者的观点与你的价值取向相左时所遇到的尴尬。书中99%的观点我都认可，至于剩下那1%,我的办法是：1。略去不讲。或2。发挥些想像力将故事情节的发展尽量向...\", \"true_label\": 1, \"predicted_label\": 1, \"is_correct\": true, \"response\": \"```json\\n{\\n  \\\"sentiment\\\": 1\\n}\\n```\"}, {\"qid\": 1133, \"text\": \"快看完了，虽然有些地方不是很明白，但是，也从中学会了认同和放下。有的东西，不是你想要就一定能拥有；有些事情，不是你一直抓着就会幸福；有些人，不是你珍惜他就不会走～我们要学会认识真正的自己，知道自己究竟...\", \"true_label\": 1, \"predicted_label\": 1, \"is_correct\": true, \"response\": \"```json\\n{\\n  \\\"sentiment\\\": 1\\n}\\n```\"}, {\"qid\": 298, \"text\": \"之前已住过该酒店觉得还可以,但这次感觉却非常糟糕,安排入住的竟然是一间没窗的房间,由于当时比较晚又是唯一的一间房,不得不住,但到现在想起都心有余悸,如那天碰巧有火灾那我怎么办?其实一直有个疑问,为什么...\", \"true_label\": 0, \"predicted_label\": 0, \"is_correct\": true, \"response\": \"```json\\n{\\n  \\\"sentiment\\\": 0\\n}\\n```\"}, {\"qid\": 922, \"text\": \"友谊宾馆环境优美，空气新鲜，硬件设施还可也，服务比较到位。瓦西里酒馆俄式大餐非常有特色，这里外国人非常多，住在这里如同在国外度假。距宾馆专用海水浴场三分钟路程，跟宣传的一样，我来过北戴河多次，这里环境...\", \"true_label\": 1, \"predicted_label\": 1, \"is_correct\": true, \"response\": \"```json\\n{\\n  \\\"sentiment\\\": 1\\n}\\n```\"}, {\"qid\": 32, \"text\": \"以本人愚见，这个饭店实在是没什么值得称道的地方，甚至想找一处放置手提电脑的地方都很困难！好不容易摆好电脑却又找不到电源插口，郁闷至极！早餐吗？别说可口和品种多样了，不夸张地说，连填饱肚子都成问题，不行...\", \"true_label\": 0, \"predicted_label\": 0, \"is_correct\": true, \"response\": \"```json\\n{\\n  \\\"sentiment\\\": 0\\n}\\n```\"}, {\"qid\": 119, \"text\": \"系统很好装，LED屏是不错，就是16比9的比例看起来比较长，是14.0的屏。外观比较酷，适合年轻人，键盘模仿SONY的，还不错。\", \"true_label\": 1, \"predicted_label\": 1, \"is_correct\": true, \"response\": \"```json\\n{\\n  \\\"sentiment\\\": 1\\n}\\n```\"}, {\"qid\": 585, \"text\": \"帮朋友买的，￥6999，相比A34促销￥6199，性价比低了一些，连个VISTA、驱动光盘都不送。机器比想像中的要厚重。\", \"true_label\": 0, \"predicted_label\": 0, \"is_correct\": true, \"response\": \"```json\\n{\\n  \\\"sentiment\\\": 0\\n}\\n```\"}, {\"qid\": 274, \"text\": \"今天在家和面，女儿问我：“妈，你和的面是固体还是液体？”我愣了一下，“这实在不好说。”我回答。女儿说：“固体液体混合呗！”yes，it's right.原来《混合的物态》一书中有讲解。接着，女儿又考我...\", \"true_label\": 1, \"predicted_label\": 1, \"is_correct\": true, \"response\": \"```json\\n{\\n  \\\"sentiment\\\": 1\\n}\\n```\"}, {\"qid\": 751, \"text\": \"我是早上近6点才到的，说是要算一天的房费。我说没问题酒店大都是这样的。第三天因为火车要晚上9点多才开，所以我延了半天到六点退房，结果到5点40就打电话催我说要来查房了，我说还没到6点你们催什么啊，而且...\", \"true_label\": 0, \"predicted_label\": 0, \"is_correct\": true, \"response\": \"```json\\n{\\n  \\\"sentiment\\\": 0\\n}\\n```\"}, {\"qid\": 683, \"text\": \"没有蓝牙，没有自带操作系统，光驱工作噪音大，开机较慢，安装GHOST时会重启，要多几次才可以成功（盘没有问题）可能和光驱振动有关。外壳容易留下手指印。\", \"true_label\": 0, \"predicted_label\": 0, \"is_correct\": true, \"response\": \"```json\\n{\\n  \\\"sentiment\\\": 0\\n}\\n```\"}, {\"qid\": 761, \"text\": \"在南阳，现在还是独此一家，没得选择，当然，去第二次时就有得选择了，希望携程加油把南阳其他的酒店也加上来。金凯悦东方的价格太贵，与南阳的物价水平相差太远。而且给携程留的房间全是拐角处的边角料，实在恼火，...\", \"true_label\": 0, \"predicted_label\": 0, \"is_correct\": true, \"response\": \"```json\\n{\\n  \\\"sentiment\\\": 0\\n}\\n```\"}, {\"qid\": 1145, \"text\": \"我在当当购卖<<求医不如求己1>>和<<求医不如求己2>>各一本,结果只寄给我一本正文缺少12页的书来.去电咨询才跟我说无货!如果无货在客户订货时电脑系统早就会反映,订单不生效.哪会到寄货时才说无货?...\", \"true_label\": 0, \"predicted_label\": 0, \"is_correct\": true, \"response\": \"```json\\n{\\n  \\\"sentiment\\\": 0\\n}\\n```\"}, {\"qid\": 76, \"text\": \"这个酒店和曲阜都给人留下了永远难忘的印象－－垃圾！！奉劝各位千万不要再去那里了，保你后悔没及！总体印象是：无论酒店，商店，交通还是旅游景点，除了收费已和国际接轨了以外，其他的都是老、少、边区的水平！！...\", \"true_label\": 0, \"predicted_label\": 0, \"is_correct\": true, \"response\": \"```json\\n{\\n  \\\"sentiment\\\": 0\\n}\\n```\"}, {\"qid\": 643, \"text\": \"价格实惠，外观也不错。 内置音箱音量比一般的都大。我的音箱接上去相对来说都小声了。\", \"true_label\": 1, \"predicted_label\": 1, \"is_correct\": true, \"response\": \"```json\\n{\\n  \\\"sentiment\\\": 1\\n}\\n```\"}, {\"qid\": 390, \"text\": \"这本书的内容真是谈不上幽默,妄想看看书就费工夫就想记住英语单词就更是白日做梦,总之,这本书买得不值.\", \"true_label\": 0, \"predicted_label\": 0, \"is_correct\": true, \"response\": \"```json\\n{\\n  \\\"sentiment\\\": 0\\n}\\n```\"}, {\"qid\": 113, \"text\": \"轻巧，适合女士和商务人士使用，think的口碑在那里放着的，键盘是全尺寸的，什么人用都合适。\", \"true_label\": 1, \"predicted_label\": 1, \"is_correct\": true, \"response\": \"```json\\n{\\n  \\\"sentiment\\\": 1\\n}\\n```\"}, {\"qid\": 388, \"text\": \"缺点和优点同样明显，就是无线网卡相当的，不太稳定。经常用着用着，屏幕右下角就出现“无线网络已连接”，说明无线短暂的断了，然后又连上了。还好我不玩游戏，否则不就麻烦了？ 不知道有没有什么解决方案？\", \"true_label\": 0, \"predicted_label\": 0, \"is_correct\": true, \"response\": \"```json\\n{\\n  \\\"sentiment\\\": 0\\n}\\n```\"}, {\"qid\": 661, \"text\": \"酒店环境,房间档次都很不错,服务水平专业.住了两天,感觉确实比较不错,二楼自助烧烤给人宾至如归的感觉\", \"true_label\": 1, \"predicted_label\": 1, \"is_correct\": true, \"response\": \"```json\\n{\\n  \\\"sentiment\\\": 1\\n}\\n```\"}, {\"qid\": 1004, \"text\": \"这本书非常棒，无论从故事构思，还是从表现手法都无不显示出作者非凡的文学功底，两个凄美的爱情故事被演绎得淋漓尽致！最初看是因为想了解回族人民的生活，看着看着却被情节所吸引，平生第一次对一本书有种“情不自...\", \"true_label\": 1, \"predicted_label\": 1, \"is_correct\": true, \"response\": \"```json\\n{\\n  \\\"sentiment\\\": 1\\n}\\n```\"}, {\"qid\": 945, \"text\": \"上门自提时，京东居然把原来包装的塑料袋收回去了，没有这个塑料袋，用户自提很不方便。验机必需要用户付完款后才能验，但付完款后，机器要自已拆开验，验完后要自已包装好。验机过程也没技术人员提供任何技术协助。\", \"true_label\": 0, \"predicted_label\": 0, \"is_correct\": true, \"response\": \"```json\\n{\\n  \\\"sentiment\\\": 0\\n}\\n```\"}, {\"qid\": 656, \"text\": \"就这样的宾馆也敢要298元，跟诈骗差不多，宾馆的前台就像饭馆的收银台，服务态度极差，跟头脑缺根弦似的。洗澡的水也不热，房间隔音差，早餐不好，如果你收个180元左右还查不多，我说的合理吧，就这酒店还敢如...\", \"true_label\": 0, \"predicted_label\": 0, \"is_correct\": true, \"response\": \"```json\\n{\\n  \\\"sentiment\\\": 0\\n}\\n```\"}, {\"qid\": 451, \"text\": \"服务态度很不错，呵呵，而且离我们去的地方非常近，非常方便，环境也很好，希望下次还可以住那里\", \"true_label\": 1, \"predicted_label\": 1, \"is_correct\": true, \"response\": \"```json\\n{\\n  \\\"sentiment\\\": 1\\n}\\n```\"}, {\"qid\": 47, \"text\": \"很好的一家酒店哦，以后还会去呢！交通方便，服务好，不错不错\", \"true_label\": 1, \"predicted_label\": 1, \"is_correct\": true, \"response\": \"```json\\n{\\n  \\\"sentiment\\\": 1\\n}\\n```\"}, {\"qid\": 46, \"text\": \"男人爱狐狸精，女人也爱。文中的狐狸相公真是让人垂涎三尺。只是文章的故事情节在某些时候衔接的比较生硬，穿插了很多在本人看来与本故事的主干线无甚关系的编外题材，我想是因为作者有太多的东西想与读者分享，结果...\", \"true_label\": 1, \"predicted_label\": 1, \"is_correct\": true, \"response\": \"```json\\n{\\n  \\\"sentiment\\\": 1\\n}\\n```\"}, {\"qid\": 207, \"text\": \"这种古老的没人住的酒店最好是不要在在携程网上出现了!\", \"true_label\": 0, \"predicted_label\": 0, \"is_correct\": true, \"response\": \"```json\\n{\\n  \\\"sentiment\\\": 0\\n}\\n```\"}, {\"qid\": 595, \"text\": \"只能说不是我想要的内容，应该是不适合我吧，不是很喜欢，只看了几页，就放到一边了\", \"true_label\": 0, \"predicted_label\": 0, \"is_correct\": true, \"response\": \"```json\\n{\\n  \\\"sentiment\\\": 0\\n}\\n```\"}, {\"qid\": 444, \"text\": \"1、纯文字的linux系统，安装windows比较费事，要按F2进入BIOS设置，把一个sata的参数改为IDE否则安装程序不能识别硬盘，不能改回来，好像影响也不大；2、驱动安装不智能\", \"true_label\": 0, \"predicted_label\": 0, \"is_correct\": true, \"response\": \"```json\\n{\\n  \\\"sentiment\\\": 0\\n}\\n```\"}, {\"qid\": 126, \"text\": \"离开该酒店差不多一个月了，但还是想说几句： 到达时已经很晚，就在店内的餐厅吃晚饭，其间顺便问第二天能否在五点钟吃上早饭，服务员客气地告诉我虽然餐厅那时还没开门，但她们可以安排送餐到房间。第二天早上五点...\", \"true_label\": 1, \"predicted_label\": 1, \"is_correct\": true, \"response\": \"```json\\n{\\n  \\\"sentiment\\\": 1\\n}\\n```\"}, {\"qid\": 463, \"text\": \"去过日本以后，非常感谢这本书救我了无数次，尤其是那个不通英语的国家，没有它真感觉很无助。连我爱人都夸我买的很实用。坐新干线3个小时，我都在听它附带的mp3，掌握了一些常用的话，学了一些常用语气，同团的...\", \"true_label\": 1, \"predicted_label\": 1, \"is_correct\": true, \"response\": \"```json\\n{\\n  \\\"sentiment\\\": 1\\n}\\n```\"}, {\"qid\": 200, \"text\": \"地理位置不错，距离商业中心政治中心和黄河都很近。 但是服务太差，连东部地区的三星都不如。 1。白天门童公然和闲人说话而不招呼客人 2。在酒店住了2天，没有一个服务人员遇到的时候主动说“你好” 3。早餐...\", \"true_label\": 0, \"predicted_label\": 0, \"is_correct\": true, \"response\": \"```json\\n{\\n  \\\"sentiment\\\": 0\\n}\\n```\"}, {\"qid\": 435, \"text\": \"我用的EX400,这次帮同学选这款，感觉两个都很不错，这款屏幕大，爽。\", \"true_label\": 1, \"predicted_label\": 1, \"is_correct\": true, \"response\": \"```json\\n{\\n  \\\"sentiment\\\": 1\\n}\\n```\"}, {\"qid\": 1188, \"text\": \"估计是出差这个月住的酒店里面最差的了酒店，可以说甚至连如家之类都不如，价格是328，含早餐，开始给个9楼，打开电梯就知道错了，脏兮兮的地毯，房间门破破烂烂，还打不开，撤！下面前台的还问怎么了，后来要给...\", \"true_label\": 0, \"predicted_label\": 0, \"is_correct\": true, \"response\": \"```json\\n{\\n  \\\"sentiment\\\": 0\\n}\\n```\"}, {\"qid\": 120, \"text\": \"刚刚从海天回来,住的东楼15楼的标房,窗户很大,坐在窗边朝左是海景,朝右是山景,海天酒店夹在东海路和香港西路之间,风景很是不错.如果选择住在香港路附近的,这家无疑是窗外景色最美的了.床和枕头都挺舒服的...\", \"true_label\": 1, \"predicted_label\": 1, \"is_correct\": true, \"response\": \"```json\\n{\\n  \\\"sentiment\\\": 1\\n}\\n```\"}, {\"qid\": 1193, \"text\": \"住过不少三、四星级的酒店，青海宾馆是最让人失望的一家。看到网上的照片还不错，实际上相差很大。酒店比较陈旧，无论是房间的颜色还是房间内的家具设施，感觉象是一个90年代的招待所。我订的是大床间，床直对着厕...\", \"true_label\": 0, \"predicted_label\": 0, \"is_correct\": true, \"response\": \"```json\\n{\\n  \\\"sentiment\\\": 0\\n}\\n```\"}, {\"qid\": 117, \"text\": \"下午收到货，因为加班，晚上11点才休息。累了一天的我，趟在床上迫不及待的打开了书的包装，展现在眼前的是一本精致得象艺术品的书，图文并茂的把各式美食展呈现我眼前。一口气，都看了个遍，用纸条把我最心动的菜...\", \"true_label\": 1, \"predicted_label\": 1, \"is_correct\": true, \"response\": \"```json\\n{\\n  \\\"sentiment\\\": 1\\n}\\n```\"}, {\"qid\": 1042, \"text\": \"怎么看下去会一段后故事还没结束，又说了其他事，后又接上前段事。有时另我一塌胡涂，要看前段说了什么，才接下去看。是不是印刷错了啊？\", \"true_label\": 0, \"predicted_label\": 0, \"is_correct\": true, \"response\": \"```json\\n{\\n  \\\"sentiment\\\": 0\\n}\\n```\"}, {\"qid\": 1088, \"text\": \"1. 早餐很差。 2. 服务态度很差。 3.地理位置也不好。周围没有什么吃的。 综合来说， 很差。 我是2008年4月28日入住的。\", \"true_label\": 0, \"predicted_label\": 0, \"is_correct\": true, \"response\": \"```json\\n{\\n  \\\"sentiment\\\": 0\\n}\\n```\"}, {\"qid\": 290, \"text\": \"散热效果不错，功耗很低，配置较高，运行时声音很小， 屏幕挺舒服的，\", \"true_label\": 1, \"predicted_label\": 1, \"is_correct\": true, \"response\": \"```json\\n{\\n  \\\"sentiment\\\": 1\\n}\\n```\"}, {\"qid\": 31, \"text\": \"房间太旧,太吵.洗手间没有热水,建议携程取消和其合作. 补充点评 2007年11月11日 ： 服务态度恶劣,言语不是太冲就是冷冰冰的,房间设施陈旧.卫生间小.\", \"true_label\": 0, \"predicted_label\": 0, \"is_correct\": true, \"response\": \"```json\\n{\\n  \\\"sentiment\\\": 0\\n}\\n```\"}, {\"qid\": 545, \"text\": \"就c一个分区 还有10g的隐藏分区，哎 不过现在的本都这样，硬盘一定要换一个大的\", \"true_label\": 0, \"predicted_label\": 0, \"is_correct\": true, \"response\": \"```json\\n{\\n  \\\"sentiment\\\": 0\\n}\\n```\"}, {\"qid\": 859, \"text\": \"通过携程报的自由行带小孩去香港。住过旺角的朗豪，因为还是喜欢尖沙咀所以最后选择朗庭。酒店大堂不错，不知道为什么那么多人嫌小。很幸运被升级，当时订了两个房间可是另外一个没有好。前台小姐送我们每个房间10...\", \"true_label\": 1, \"predicted_label\": 1, \"is_correct\": true, \"response\": \"```json\\n{\\n  \\\"sentiment\\\": 1\\n}\\n```\"}, {\"qid\": 403, \"text\": \"官方给的驱动是在是不敢恭维，刚买来的机子就已经玩游戏很卡了，害我自己到显卡的官方网下载最新的，之后就玩起来比较爽。\", \"true_label\": 0, \"predicted_label\": 0, \"is_correct\": true, \"response\": \"```json\\n{\\n  \\\"sentiment\\\": 0\\n}\\n```\"}, {\"qid\": 986, \"text\": \"感觉刻录的时候声音比较大，还有就是搞系统的时候挺麻烦。希望能提供相应的驱动什么的，省的要装的人都找不到下载的地方。\", \"true_label\": 0, \"predicted_label\": 0, \"is_correct\": true, \"response\": \"```json\\n{\\n  \\\"sentiment\\\": 0\\n}\\n```\"}, {\"qid\": 987, \"text\": \"整体性能还是不错的，如果DDR是3代就好了，还有内存，顺便问下，内存可以在哪升级，我想升级到四代。\", \"true_label\": 1, \"predicted_label\": 1, \"is_correct\": true, \"response\": \"```json\\n{\\n  \\\"sentiment\\\": 1\\n}\\n```\"}, {\"qid\": 507, \"text\": \"作为一本屹立不倒的经典教材，纽摄所传授的不是单纯的技术，而是理念。不是教条的灌输，而是互动性的思考。从书的内容上品评，虽说部分内容对于数码影像发达的今天有些过时，但是，摄影作为一门技术性行业的本质是不...\", \"true_label\": 1, \"predicted_label\": 1, \"is_correct\": true, \"response\": \"```json\\n{\\n  \\\"sentiment\\\": 1\\n}\\n```\"}, {\"qid\": 188, \"text\": \"书是很好的，但是当当网怎么搞的，一直很信任你们，这次把很旧的一本书给送过来，你们不会觉得不好意思吗？\", \"true_label\": 0, \"predicted_label\": 0, \"is_correct\": true, \"response\": \"```json\\n{\\n  \\\"sentiment\\\": 0\\n}\\n```\"}, {\"qid\": 208, \"text\": \"1、只有Dos系统，装Xp搞了我半天 2、外观部分颜色和所列图片不符 3、没有包\", \"true_label\": 0, \"predicted_label\": 0, \"is_correct\": true, \"response\": \"```json\\n{\\n  \\\"sentiment\\\": 0\\n}\\n```\"}, {\"qid\": 780, \"text\": \"全金属外壳的机器 SSD速度快 3芯电池够用 6芯会突出一块影响美观和携带\", \"true_label\": 1, \"predicted_label\": 0, \"is_correct\": false, \"response\": \"```json\\n{\\n  \\\"sentiment\\\": 0\\n}\\n```\"}, {\"qid\": 1094, \"text\": \"酒店离长途汽车站很近，走路5分钟就到了。整体环境不错，房间很干净。我住的是标准间，作为三星级酒店，我感觉很好了。服务态度很满意。沿着酒店大门前的路一直走就是鸣沙山。打车10元，公共汽车1元，酒店门口有...\", \"true_label\": 1, \"predicted_label\": 1, \"is_correct\": true, \"response\": \"```json\\n{\\n  \\\"sentiment\\\": 1\\n}\\n```\"}, {\"qid\": 1182, \"text\": \"1.散热好，非常好 2.屏幕很亮很清楚 3.觉得键盘也不错 4.摄像头非常清楚 5.最重要的一点，性价比高\", \"true_label\": 1, \"predicted_label\": 1, \"is_correct\": true, \"response\": \"```json\\n{\\n  \\\"sentiment\\\": 1\\n}\\n```\"}, {\"qid\": 1123, \"text\": \"颜色和样式呆板，散热口在左边左手不爽，右边没有USB，不带XP系统，不带包。\", \"true_label\": 0, \"predicted_label\": 0, \"is_correct\": true, \"response\": \"```json\\n{\\n  \\\"sentiment\\\": 0\\n}\\n```\"}], \"inference_time\": 144.2626669406891, \"metrics\": {\"accuracy\": 91.62, \"precision\": 98.57, \"recall\": 83.13, \"f1_score\": 90.2}}, \"finetuned\": {\"model_name\": \"Fine-tuned Model\", \"model_path\": \"saves/qwen2_5-coder-1.5b/freeze/sft\", \"total\": 179, \"correct\": 175, \"parse_failed\": 0, \"true_positives\": 79, \"true_negatives\": 96, \"false_positives\": 0, \"false_negatives\": 4, \"predictions\": [{\"qid\": 990, \"text\": \"?款?子只能?Vista，才能?示??卡，如果?XP，??就不被??出?，?句??，只有集成?卡被??，Vista的系?很大，占10多G，整???都很慢，很苦?，?在?盼???快推出XP的?卡??\", \"true_label\": 0, \"predicted_label\": 0, \"is_correct\": true, \"response\": \"```json\\n{\\n  \\\"sentiment\\\": 0\\n}\\n```\"}, {\"qid\": 815, \"text\": \"3月1号订的,3月15号还没到货 客服每天说下个工作日能到货已经连续5天了 我无语。想早点儿看这本书的人还是去陶宝或卓越上订吧,尤其是广东省的朋友.当当送货太没保证了.\", \"true_label\": 0, \"predicted_label\": 0, \"is_correct\": true, \"response\": \"```json\\n{\\n  \\\"sentiment\\\": 0\\n}\\n```\"}, {\"qid\": 196, \"text\": \"该死的亮点一个， 没有操作系统或者是我不会弄， 京东的送货速度啊！！！！不说了\", \"true_label\": 0, \"predicted_label\": 0, \"is_correct\": true, \"response\": \"```json\\n{\\n  \\\"sentiment\\\": 0\\n}\\n```\"}, {\"qid\": 142, \"text\": \"希望大家也能像我一样，每家酒店都能尝试的住一下，因为每个酒店都各有特色\", \"true_label\": 1, \"predicted_label\": 1, \"is_correct\": true, \"response\": \"```json\\n{\\n  \\\"sentiment\\\": 1\\n}\\n```\"}, {\"qid\": 1185, \"text\": \"这是一本与书有关的书，这是一本读书人要读的书，书中的故事记录读书人读书，买书，淘书、藏书的经历，给了我们后学者很多的启示。让我们更加珍惜我们现在的读书环境。我们现在只要想读书，就能读到。更要可以利用网...\", \"true_label\": 1, \"predicted_label\": 1, \"is_correct\": true, \"response\": \"```json\\n{\\n  \\\"sentiment\\\": 1\\n}\\n```\"}, {\"qid\": 900, \"text\": \"买这本书就是因为时寒冰，看过他的博客，也看过他的电视节目。一是为老百姓说话，对民生问题情之切切；二是对经济现象和历史数据了如指掌，用数据说话，用事实说话，而不是人云亦云；三是如同战士，如同刺刀，插向利...\", \"true_label\": 1, \"predicted_label\": 1, \"is_correct\": true, \"response\": \"```json\\n{\\n  \\\"sentiment\\\": 1\\n}\\n```\"}, {\"qid\": 215, \"text\": \"配置比较均匀、性价比高。 配置的安装盘比较丰富。 赠送的鼠标、屏幕擦布等很贴心。\", \"true_label\": 1, \"predicted_label\": 1, \"is_correct\": true, \"response\": \"```json\\n{\\n  \\\"sentiment\\\": 1\\n}\\n```\"}, {\"qid\": 123, \"text\": \"元旦前住的，川妹子服務意识很强，很细心。问一答二三，想得比客人超前。房间有些陈旧，但洗澡和空調都OK. 溫泉沒泡上有些遺憾，泡上的朋友说不错。我去捏脚了，技術很好，喜歡。\", \"true_label\": 1, \"predicted_label\": 1, \"is_correct\": true, \"response\": \"```json\\n{\\n  \\\"sentiment\\\": 1\\n}\\n```\"}, {\"qid\": 65, \"text\": \"酒店前台服务差，对待客人不热情。号称携程没有预定。感觉是客人在求他们，我们一定得住。这样的宾馆下次不会入住！\", \"true_label\": 0, \"predicted_label\": 0, \"is_correct\": true, \"response\": \"```json\\n{\\n  \\\"sentiment\\\": 0\\n}\\n```\"}, {\"qid\": 279, \"text\": \"根本就是家庭旅馆..还298+12基金...我去的时候刚好是国庆他们说在装修,把我安排在前面的民宅一样的地方..刚开始带我去6号楼，妈的根本不是人住的破..然后把我带回8号楼.大一点..而且这个地方离...\", \"true_label\": 0, \"predicted_label\": 0, \"is_correct\": true, \"response\": \"```json\\n{\\n  \\\"sentiment\\\": 0\\n}\\n```\"}, {\"qid\": 710, \"text\": \"外观时尚，白色的键盘用起来是相当的拉风。机器的配置在同等价位的品牌里属于最高的了。\", \"true_label\": 1, \"predicted_label\": 1, \"is_correct\": true, \"response\": \"```json\\n{\\n  \\\"sentiment\\\": 1\\n}\\n```\"}, {\"qid\": 1177, \"text\": \"房间很干净的，住的朝南的房间，太阳照进来很舒服，现在可以上网了，网速也不错的说。宾馆的交通老方便，闹中取静的地方。月坛北街上的护国寺小吃我也老喜欢的。宾馆里提供10元的午餐和晚餐也不错。缺点么，就是隔...\", \"true_label\": 1, \"predicted_label\": 1, \"is_correct\": true, \"response\": \"```json\\n{\\n  \\\"sentiment\\\": 1\\n}\\n```\"}, {\"qid\": 260, \"text\": \"价格便宜的好像是1号楼，太差，空调无暖气，无宽带，千万不要住。可以推荐汽车站对面交通局开的宾馆，有宽带。也方便。龙岩象个县级市，不好打的士。 宾馆反馈 2008年3月12日 ： 1号楼中央空调，含暖气...\", \"true_label\": 0, \"predicted_label\": 0, \"is_correct\": true, \"response\": \"```json\\n{\\n  \\\"sentiment\\\": 0\\n}\\n```\"}, {\"qid\": 330, \"text\": \"这是多么不可思议的书，多么不可思议的发现，给我极大的震撼，开始是在朋友处看到，书中作者并未告诉我什么，只是把一张张照片摆出来，让读者自己体味，但是就像书名，水告知我们答案，就连我们看来没有生命的水也如...\", \"true_label\": 1, \"predicted_label\": 1, \"is_correct\": true, \"response\": \"```json\\n{\\n  \\\"sentiment\\\": 1\\n}\\n```\"}, {\"qid\": 441, \"text\": \"我们因为相爱而结婚了，随着时间的流逝，为什么相爱的人之间战火纷飞，彼此却又感到委屈呢？俗话说，相爱容易相守难。我们要做些什么，才能使夫妻相处得愉快，渐入佳境呢？读了这本广为相传的书，原来答案就是夫妻双...\", \"true_label\": 1, \"predicted_label\": 1, \"is_correct\": true, \"response\": \"```json\\n{\\n  \\\"sentiment\\\": 1\\n}\\n```\"}, {\"qid\": 359, \"text\": \"普通游客旅馆 还三星 让我伤心 店名好大 奇差无比 补充点评 2006年12月8日 ： 还说有地下车库 谁敢下去 晕 狭小 黑暗 要卡壳儿的 CTRIP上怎么让它这么忽悠顾客的 ？！！！！！！！\", \"true_label\": 0, \"predicted_label\": 0, \"is_correct\": true, \"response\": \"```json\\n{\\n  \\\"sentiment\\\": 0\\n}\\n```\"}, {\"qid\": 1194, \"text\": \"安意如，同样是感性的女子。一个才女，就如她自己形容的一样，一流的才女，即使隔了千年时光，心智也是有共通的，身上流落的气息韵致，像老房子里留下的檀香木衣柜，总是高大沉厚的样式，何时打开来，都迷茫着淡淡香...\", \"true_label\": 1, \"predicted_label\": 1, \"is_correct\": true, \"response\": \"```json\\n{\\n  \\\"sentiment\\\": 1\\n}\\n```\"}, {\"qid\": 324, \"text\": \"我是11月29日入住,12月1日离店的,由于我本人不慎将新买的皮鞋和一个仪器上的配件忘记在宾馆了,我给他们打电话,前台胡小姐态度很好又很耐心,在此表示感谢! 但不知道为什么,前台的人就是找不到,我后来...\", \"true_label\": 0, \"predicted_label\": 0, \"is_correct\": true, \"response\": \"```json\\n{\\n  \\\"sentiment\\\": 0\\n}\\n```\"}, {\"qid\": 728, \"text\": \"很怀疑五星酒店的评价标准。三星都不如，很失望！\", \"true_label\": 0, \"predicted_label\": 0, \"is_correct\": true, \"response\": \"```json\\n{\\n  \\\"sentiment\\\": 0\\n}\\n```\"}, {\"qid\": 84, \"text\": \"觉得作者的观点跟自己完全相反，很难认同作者的观点啊！可能有文化和地域差异吧！买了十几本书，觉得这本书最没用，唉！浪费钱了！\", \"true_label\": 0, \"predicted_label\": 0, \"is_correct\": true, \"response\": \"```json\\n{\\n  \\\"sentiment\\\": 0\\n}\\n```\"}, {\"qid\": 166, \"text\": \"装个XP住哪个的我头痛，依然没有成功，放弃了！还是装了vista，凑合着用吧，习惯了就没问题了！\", \"true_label\": 0, \"predicted_label\": 0, \"is_correct\": true, \"response\": \"```json\\n{\\n  \\\"sentiment\\\": 0\\n}\\n```\"}, {\"qid\": 1083, \"text\": \"酒店条件非常差！明明说有网络，就是用不了！而且蟑螂成堆，永远不会选择这个酒店了！！！ 补充点评 2007年7月20日 ： 极差！！！！\", \"true_label\": 0, \"predicted_label\": 0, \"is_correct\": true, \"response\": \"```json\\n{\\n  \\\"sentiment\\\": 0\\n}\\n```\"}, {\"qid\": 841, \"text\": \"看网评以为是不错的一本书，感觉一定要看，否则怕20几岁时错过后悔。可是看了感觉没什么内容，有点上当的感觉，不喜欢，内容挺肤浅的，写的很现实，却有些乏味。\", \"true_label\": 0, \"predicted_label\": 0, \"is_correct\": true, \"response\": \"```json\\n{\\n  \\\"sentiment\\\": 0\\n}\\n```\"}, {\"qid\": 742, \"text\": \"价格在贵阳算便宜的，不过房间太旧，够大，空调暖风白天不开，生气！\", \"true_label\": 0, \"predicted_label\": 0, \"is_correct\": true, \"response\": \"```json\\n{\\n  \\\"sentiment\\\": 0\\n}\\n```\"}, {\"qid\": 1128, \"text\": \"房间老旧,床单在要求下才更换了一张干净的,明明有双人房,前台却告之只有豪华套间.服务员以为客人听不懂广东话,私下里说:他订了套房不能给她改,真是岂有此理! 宾馆反馈 2008年3月4日 ： 谢谢您的宝...\", \"true_label\": 0, \"predicted_label\": 0, \"is_correct\": true, \"response\": \"```json\\n{\\n  \\\"sentiment\\\": 0\\n}\\n```\"}, {\"qid\": 389, \"text\": \"很满意这次的选择。金版纳真是性价比极高。离开市中心又很近，早餐也比较丰富。别墅型的房屋让人回归自然。这个3星货真价实的\", \"true_label\": 1, \"predicted_label\": 1, \"is_correct\": true, \"response\": \"```json\\n{\\n  \\\"sentiment\\\": 1\\n}\\n```\"}, {\"qid\": 342, \"text\": \"机器不错。。。比想象中的，好，本来以为没有鼠标，没想到还带个，很好很强大\", \"true_label\": 1, \"predicted_label\": 1, \"is_correct\": true, \"response\": \"```json\\n{\\n  \\\"sentiment\\\": 1\\n}\\n```\"}, {\"qid\": 231, \"text\": \"不知算不算问题，就是合上本本的时候，缝隙有点大。不过也没有什么影响。\", \"true_label\": 0, \"predicted_label\": 0, \"is_correct\": true, \"response\": \"```json\\n{\\n  \\\"sentiment\\\": 0\\n}\\n```\"}, {\"qid\": 275, \"text\": \"不如新开张时候好了，房间的地毯比较脏，网速是很慢的，电视的操作也非常不人性化。 淋浴的地漏下水很慢，一不小心就要水漫金山！ 酒店内的按摩和足疗的价格就是让你去一次再也不要去第二次，而且会一直鼓动你增加...\", \"true_label\": 0, \"predicted_label\": 0, \"is_correct\": true, \"response\": \"```json\\n{\\n  \\\"sentiment\\\": 0\\n}\\n```\"}, {\"qid\": 1081, \"text\": \"出于对海航系统的好感，虽条件并不出众，早餐简陋，（同等价格可以选择宝华大酒店、康年皇冠大酒店等很多条件更好的酒店）但仍第二次入住，提前预订同样房型（豪华商务大床房），价格也一样；但入住时（较晚到酒店）...\", \"true_label\": 0, \"predicted_label\": 0, \"is_correct\": true, \"response\": \"```json\\n{\\n  \\\"sentiment\\\": 0\\n}\\n```\"}, {\"qid\": 484, \"text\": \"作为一本描写过去年代感情生活的小说，作者明显生活经验不足，并且文字功底极其一般，看后感觉浪费时间，不值得看，也不推荐。张贤亮，梁晓声等写作大家叙述的过去时光似乎更让人怀念和感慨，此书明显不是一个档次的...\", \"true_label\": 0, \"predicted_label\": 0, \"is_correct\": true, \"response\": \"```json\\n{\\n  \\\"sentiment\\\": 0\\n}\\n```\"}, {\"qid\": 103, \"text\": \"最早认识张曼娟，是在张清芳的CD上边，作为一位写词人。细腻的文字连歌词也写得像情书，小女人的楚楚婉婉。后来才知道，张曼娟也是作家。于是，开始计划读她的书，挑了这本很奇怪的名字。《张曼娟妖物志》——写妖...\", \"true_label\": 1, \"predicted_label\": 1, \"is_correct\": true, \"response\": \"```json\\n{\\n  \\\"sentiment\\\": 1\\n}\\n```\"}, {\"qid\": 309, \"text\": \"［荐书］因为噼里啪啦很好，已经买了好多本送人了呢\", \"true_label\": 1, \"predicted_label\": 0, \"is_correct\": false, \"response\": \"```json\\n{\\n  \\\"sentiment\\\": 0\\n}\\n```\"}, {\"qid\": 217, \"text\": \"华硕的笔记本我都在京东买了两台了。没想到华硕的机子在京东性价比这么高。\", \"true_label\": 1, \"predicted_label\": 1, \"is_correct\": true, \"response\": \"```json\\n{\\n  \\\"sentiment\\\": 1\\n}\\n```\"}, {\"qid\": 301, \"text\": \"老店还比较值得信赖，下次入住还可以考虑这里的。 宾馆反馈 2008年7月31日 ： 尊敬的各位宾客:大家好！感谢您们前期选择入住新疆屯河华美达酒店及对本酒店的评价,对于前期大家入住本酒店未能达到满意，...\", \"true_label\": 1, \"predicted_label\": 1, \"is_correct\": true, \"response\": \"```json\\n{\\n  \\\"sentiment\\\": 1\\n}\\n```\"}, {\"qid\": 410, \"text\": \"空气好是没有话说的。鱼疗减少了很多的死皮。温泉的确是室外的好（虽然不是很深，人是不能站起来的），但是服务上要加强的地方太多了。 第一，早餐9：30要结束，我大约9：25左右到餐厅，餐厅的迎宾没有事先告...\", \"true_label\": 0, \"predicted_label\": 0, \"is_correct\": true, \"response\": \"```json\\n{\\n  \\\"sentiment\\\": 0\\n}\\n```\"}, {\"qid\": 564, \"text\": \"不知道为什么开机的时候光驱的声儿特别大，而且装了vista，很慢，很不习惯，且只有一个区，还是花了一个晚上换成了XP，用起来速度还能说得过去。\", \"true_label\": 0, \"predicted_label\": 0, \"is_correct\": true, \"response\": \"```json\\n{\\n  \\\"sentiment\\\": 0\\n}\\n```\"}, {\"qid\": 232, \"text\": \"我觉得这是一本很不错的书呢。首先它是基于历史事件的基础上虚构出来的爱情故事。我觉得很是感人。看完这本书，我认识到了之前对于这场上海的历史缺失的知识。如果想要研究历史，但是又觉得纯历史书很闷得话，那么我...\", \"true_label\": 1, \"predicted_label\": 1, \"is_correct\": true, \"response\": \"```json\\n{\\n  \\\"sentiment\\\": 1\\n}\\n```\"}, {\"qid\": 512, \"text\": \"承诺的第二日送货根本实现不了，我已经等了2天了，问客服也是敷衍说再联系，到现在也没人联系\", \"true_label\": 0, \"predicted_label\": 0, \"is_correct\": true, \"response\": \"```json\\n{\\n  \\\"sentiment\\\": 0\\n}\\n```\"}, {\"qid\": 417, \"text\": \"本来是订的3个晚上，住了2个晚上实在受不了了，我到贵阳的第一个晚上是住在锦江鲜花酒店，第二天委托携程帮我定3个晚上在瑞金酒店，电视比我11年前结婚的电视还破，服务员素质太差了，连基本的礼貌也没有，好象...\", \"true_label\": 0, \"predicted_label\": 0, \"is_correct\": true, \"response\": \"```json\\n{\\n  \\\"sentiment\\\": 0\\n}\\n```\"}, {\"qid\": 603, \"text\": \"送货超级快，周五下班前下的订单，周六上午就送到家了，赞一个哈~~体积比较小\", \"true_label\": 1, \"predicted_label\": 1, \"is_correct\": true, \"response\": \"```json\\n{\\n  \\\"sentiment\\\": 1\\n}\\n```\"}, {\"qid\": 1115, \"text\": \"稳定、噪音小、发热也小，屏幕看起来很舒服，亮而不刺眼，感觉很润。键盘手感也不错。\", \"true_label\": 1, \"predicted_label\": 1, \"is_correct\": true, \"response\": \"```json\\n{\\n  \\\"sentiment\\\": 1\\n}\\n```\"}, {\"qid\": 893, \"text\": \"都是谁说的好啊，我也买了。可是看不懂，我妈看了也说没啥用。哎。。。。。。。。\", \"true_label\": 0, \"predicted_label\": 0, \"is_correct\": true, \"response\": \"```json\\n{\\n  \\\"sentiment\\\": 0\\n}\\n```\"}, {\"qid\": 1176, \"text\": \"绝对是指纹收集器，太容易留下指纹了，另外如果想增加内存，其实，很难！\", \"true_label\": 0, \"predicted_label\": 0, \"is_correct\": true, \"response\": \"```json\\n{\\n  \\\"sentiment\\\": 0\\n}\\n```\"}, {\"qid\": 733, \"text\": \"我们是在2008年春节入住该酒店的.就这价格来说:总体感觉不错.但二次无法用门卡开门,最后麻烦服务员开的.他们的服务态度不错,这点值得表扬.卫生间小了点.如果再次回襄樊,金城仍是我们的首选(当然如他们...\", \"true_label\": 1, \"predicted_label\": 1, \"is_correct\": true, \"response\": \"```json\\n{\\n  \\\"sentiment\\\": 1\\n}\\n```\"}, {\"qid\": 101, \"text\": \"电源续航能力不足 使用支票时时间太久，用了一个多礼拜 应该针对高级客户使用“付支票、即可取现货”，不要象现在这样必须到账才给货。\", \"true_label\": 0, \"predicted_label\": 0, \"is_correct\": true, \"response\": \"```json\\n{\\n  \\\"sentiment\\\": 0\\n}\\n```\"}, {\"qid\": 975, \"text\": \"白色钢琴烤漆很漂亮，声音效果很棒，对于用来上上网，做些文字办公，看看电影，只要不超级大片的完全够用了，关键是便捷性很好。电池在连续办公时用了5个半小时\", \"true_label\": 1, \"predicted_label\": 1, \"is_correct\": true, \"response\": \"```json\\n{\\n  \\\"sentiment\\\": 1\\n}\\n```\"}, {\"qid\": 62, \"text\": \"完美屏，声音也不错，游戏性能也不错，散热好。硬盘几乎听不见声音。\", \"true_label\": 1, \"predicted_label\": 1, \"is_correct\": true, \"response\": \"```json\\n{\\n  \\\"sentiment\\\": 1\\n}\\n```\"}, {\"qid\": 989, \"text\": \"不知道为什么这么多人喜欢，我一点儿都看不动，什么穴位，针灸，离我太遥远，可能懂医的人会更好理解，正二手书在淘宝上卖哪，不知道卖得出去吗？根本没翻几页，跟买来时一样新。\", \"true_label\": 0, \"predicted_label\": 0, \"is_correct\": true, \"response\": \"```json\\n{\\n  \\\"sentiment\\\": 0\\n}\\n```\"}, {\"qid\": 858, \"text\": \"好书！父母读给孩子听之前自己应先通读一遍，以避免作者的观点与你的价值取向相左时所遇到的尴尬。书中99%的观点我都认可，至于剩下那1%,我的办法是：1。略去不讲。或2。发挥些想像力将故事情节的发展尽量向...\", \"true_label\": 1, \"predicted_label\": 1, \"is_correct\": true, \"response\": \"```json\\n{\\n  \\\"sentiment\\\": 1\\n}\\n```\"}, {\"qid\": 1133, \"text\": \"快看完了，虽然有些地方不是很明白，但是，也从中学会了认同和放下。有的东西，不是你想要就一定能拥有；有些事情，不是你一直抓着就会幸福；有些人，不是你珍惜他就不会走～我们要学会认识真正的自己，知道自己究竟...\", \"true_label\": 1, \"predicted_label\": 1, \"is_correct\": true, \"response\": \"```json\\n{\\n  \\\"sentiment\\\": 1\\n}\\n```\"}, {\"qid\": 298, \"text\": \"之前已住过该酒店觉得还可以,但这次感觉却非常糟糕,安排入住的竟然是一间没窗的房间,由于当时比较晚又是唯一的一间房,不得不住,但到现在想起都心有余悸,如那天碰巧有火灾那我怎么办?其实一直有个疑问,为什么...\", \"true_label\": 0, \"predicted_label\": 0, \"is_correct\": true, \"response\": \"```json\\n{\\n  \\\"sentiment\\\": 0\\n}\\n```\"}, {\"qid\": 922, \"text\": \"友谊宾馆环境优美，空气新鲜，硬件设施还可也，服务比较到位。瓦西里酒馆俄式大餐非常有特色，这里外国人非常多，住在这里如同在国外度假。距宾馆专用海水浴场三分钟路程，跟宣传的一样，我来过北戴河多次，这里环境...\", \"true_label\": 1, \"predicted_label\": 1, \"is_correct\": true, \"response\": \"```json\\n{\\n  \\\"sentiment\\\": 1\\n}\\n```\"}, {\"qid\": 32, \"text\": \"以本人愚见，这个饭店实在是没什么值得称道的地方，甚至想找一处放置手提电脑的地方都很困难！好不容易摆好电脑却又找不到电源插口，郁闷至极！早餐吗？别说可口和品种多样了，不夸张地说，连填饱肚子都成问题，不行...\", \"true_label\": 0, \"predicted_label\": 0, \"is_correct\": true, \"response\": \"```json\\n{\\n  \\\"sentiment\\\": 0\\n}\\n```\"}, {\"qid\": 119, \"text\": \"系统很好装，LED屏是不错，就是16比9的比例看起来比较长，是14.0的屏。外观比较酷，适合年轻人，键盘模仿SONY的，还不错。\", \"true_label\": 1, \"predicted_label\": 1, \"is_correct\": true, \"response\": \"```json\\n{\\n  \\\"sentiment\\\": 1\\n}\\n```\"}, {\"qid\": 585, \"text\": \"帮朋友买的，￥6999，相比A34促销￥6199，性价比低了一些，连个VISTA、驱动光盘都不送。机器比想像中的要厚重。\", \"true_label\": 0, \"predicted_label\": 0, \"is_correct\": true, \"response\": \"```json\\n{\\n  \\\"sentiment\\\": 0\\n}\\n```\"}, {\"qid\": 274, \"text\": \"今天在家和面，女儿问我：“妈，你和的面是固体还是液体？”我愣了一下，“这实在不好说。”我回答。女儿说：“固体液体混合呗！”yes，it's right.原来《混合的物态》一书中有讲解。接着，女儿又考我...\", \"true_label\": 1, \"predicted_label\": 1, \"is_correct\": true, \"response\": \"```json\\n{\\n  \\\"sentiment\\\": 1\\n}\\n```\"}, {\"qid\": 751, \"text\": \"我是早上近6点才到的，说是要算一天的房费。我说没问题酒店大都是这样的。第三天因为火车要晚上9点多才开，所以我延了半天到六点退房，结果到5点40就打电话催我说要来查房了，我说还没到6点你们催什么啊，而且...\", \"true_label\": 0, \"predicted_label\": 0, \"is_correct\": true, \"response\": \"```json\\n{\\n  \\\"sentiment\\\": 0\\n}\\n```\"}, {\"qid\": 683, \"text\": \"没有蓝牙，没有自带操作系统，光驱工作噪音大，开机较慢，安装GHOST时会重启，要多几次才可以成功（盘没有问题）可能和光驱振动有关。外壳容易留下手指印。\", \"true_label\": 0, \"predicted_label\": 0, \"is_correct\": true, \"response\": \"```json\\n{\\n  \\\"sentiment\\\": 0\\n}\\n```\"}, {\"qid\": 761, \"text\": \"在南阳，现在还是独此一家，没得选择，当然，去第二次时就有得选择了，希望携程加油把南阳其他的酒店也加上来。金凯悦东方的价格太贵，与南阳的物价水平相差太远。而且给携程留的房间全是拐角处的边角料，实在恼火，...\", \"true_label\": 0, \"predicted_label\": 0, \"is_correct\": true, \"response\": \"```json\\n{\\n  \\\"sentiment\\\": 0\\n}\\n```\"}, {\"qid\": 1145, \"text\": \"我在当当购卖<<求医不如求己1>>和<<求医不如求己2>>各一本,结果只寄给我一本正文缺少12页的书来.去电咨询才跟我说无货!如果无货在客户订货时电脑系统早就会反映,订单不生效.哪会到寄货时才说无货?...\", \"true_label\": 0, \"predicted_label\": 0, \"is_correct\": true, \"response\": \"```json\\n{\\n  \\\"sentiment\\\": 0\\n}\\n```\"}, {\"qid\": 76, \"text\": \"这个酒店和曲阜都给人留下了永远难忘的印象－－垃圾！！奉劝各位千万不要再去那里了，保你后悔没及！总体印象是：无论酒店，商店，交通还是旅游景点，除了收费已和国际接轨了以外，其他的都是老、少、边区的水平！！...\", \"true_label\": 0, \"predicted_label\": 0, \"is_correct\": true, \"response\": \"```json\\n{\\n  \\\"sentiment\\\": 0\\n}\\n```\"}, {\"qid\": 643, \"text\": \"价格实惠，外观也不错。 内置音箱音量比一般的都大。我的音箱接上去相对来说都小声了。\", \"true_label\": 1, \"predicted_label\": 1, \"is_correct\": true, \"response\": \"```json\\n{\\n  \\\"sentiment\\\": 1\\n}\\n```\"}, {\"qid\": 390, \"text\": \"这本书的内容真是谈不上幽默,妄想看看书就费工夫就想记住英语单词就更是白日做梦,总之,这本书买得不值.\", \"true_label\": 0, \"predicted_label\": 0, \"is_correct\": true, \"response\": \"```json\\n{\\n  \\\"sentiment\\\": 0\\n}\\n```\"}, {\"qid\": 113, \"text\": \"轻巧，适合女士和商务人士使用，think的口碑在那里放着的，键盘是全尺寸的，什么人用都合适。\", \"true_label\": 1, \"predicted_label\": 1, \"is_correct\": true, \"response\": \"```json\\n{\\n  \\\"sentiment\\\": 1\\n}\\n```\"}, {\"qid\": 388, \"text\": \"缺点和优点同样明显，就是无线网卡相当的，不太稳定。经常用着用着，屏幕右下角就出现“无线网络已连接”，说明无线短暂的断了，然后又连上了。还好我不玩游戏，否则不就麻烦了？ 不知道有没有什么解决方案？\", \"true_label\": 0, \"predicted_label\": 0, \"is_correct\": true, \"response\": \"```json\\n{\\n  \\\"sentiment\\\": 0\\n}\\n```\"}, {\"qid\": 661, \"text\": \"酒店环境,房间档次都很不错,服务水平专业.住了两天,感觉确实比较不错,二楼自助烧烤给人宾至如归的感觉\", \"true_label\": 1, \"predicted_label\": 1, \"is_correct\": true, \"response\": \"```json\\n{\\n  \\\"sentiment\\\": 1\\n}\\n```\"}, {\"qid\": 1004, \"text\": \"这本书非常棒，无论从故事构思，还是从表现手法都无不显示出作者非凡的文学功底，两个凄美的爱情故事被演绎得淋漓尽致！最初看是因为想了解回族人民的生活，看着看着却被情节所吸引，平生第一次对一本书有种“情不自...\", \"true_label\": 1, \"predicted_label\": 1, \"is_correct\": true, \"response\": \"```json\\n{\\n  \\\"sentiment\\\": 1\\n}\\n```\"}, {\"qid\": 945, \"text\": \"上门自提时，京东居然把原来包装的塑料袋收回去了，没有这个塑料袋，用户自提很不方便。验机必需要用户付完款后才能验，但付完款后，机器要自已拆开验，验完后要自已包装好。验机过程也没技术人员提供任何技术协助。\", \"true_label\": 0, \"predicted_label\": 0, \"is_correct\": true, \"response\": \"```json\\n{\\n  \\\"sentiment\\\": 0\\n}\\n```\"}, {\"qid\": 656, \"text\": \"就这样的宾馆也敢要298元，跟诈骗差不多，宾馆的前台就像饭馆的收银台，服务态度极差，跟头脑缺根弦似的。洗澡的水也不热，房间隔音差，早餐不好，如果你收个180元左右还查不多，我说的合理吧，就这酒店还敢如...\", \"true_label\": 0, \"predicted_label\": 0, \"is_correct\": true, \"response\": \"```json\\n{\\n  \\\"sentiment\\\": 0\\n}\\n```\"}, {\"qid\": 451, \"text\": \"服务态度很不错，呵呵，而且离我们去的地方非常近，非常方便，环境也很好，希望下次还可以住那里\", \"true_label\": 1, \"predicted_label\": 1, \"is_correct\": true, \"response\": \"```json\\n{\\n  \\\"sentiment\\\": 1\\n}\\n```\"}, {\"qid\": 47, \"text\": \"很好的一家酒店哦，以后还会去呢！交通方便，服务好，不错不错\", \"true_label\": 1, \"predicted_label\": 1, \"is_correct\": true, \"response\": \"```json\\n{\\n  \\\"sentiment\\\": 1\\n}\\n```\"}, {\"qid\": 46, \"text\": \"男人爱狐狸精，女人也爱。文中的狐狸相公真是让人垂涎三尺。只是文章的故事情节在某些时候衔接的比较生硬，穿插了很多在本人看来与本故事的主干线无甚关系的编外题材，我想是因为作者有太多的东西想与读者分享，结果...\", \"true_label\": 1, \"predicted_label\": 1, \"is_correct\": true, \"response\": \"```json\\n{\\n  \\\"sentiment\\\": 1\\n}\\n```\"}, {\"qid\": 207, \"text\": \"这种古老的没人住的酒店最好是不要在在携程网上出现了!\", \"true_label\": 0, \"predicted_label\": 0, \"is_correct\": true, \"response\": \"```json\\n{\\n  \\\"sentiment\\\": 0\\n}\\n```\"}, {\"qid\": 595, \"text\": \"只能说不是我想要的内容，应该是不适合我吧，不是很喜欢，只看了几页，就放到一边了\", \"true_label\": 0, \"predicted_label\": 0, \"is_correct\": true, \"response\": \"```json\\n{\\n  \\\"sentiment\\\": 0\\n}\\n```\"}, {\"qid\": 444, \"text\": \"1、纯文字的linux系统，安装windows比较费事，要按F2进入BIOS设置，把一个sata的参数改为IDE否则安装程序不能识别硬盘，不能改回来，好像影响也不大；2、驱动安装不智能\", \"true_label\": 0, \"predicted_label\": 0, \"is_correct\": true, \"response\": \"```json\\n{\\n  \\\"sentiment\\\": 0\\n}\\n```\"}, {\"qid\": 126, \"text\": \"离开该酒店差不多一个月了，但还是想说几句： 到达时已经很晚，就在店内的餐厅吃晚饭，其间顺便问第二天能否在五点钟吃上早饭，服务员客气地告诉我虽然餐厅那时还没开门，但她们可以安排送餐到房间。第二天早上五点...\", \"true_label\": 1, \"predicted_label\": 1, \"is_correct\": true, \"response\": \"```json\\n{\\n  \\\"sentiment\\\": 1\\n}\\n```\"}, {\"qid\": 463, \"text\": \"去过日本以后，非常感谢这本书救我了无数次，尤其是那个不通英语的国家，没有它真感觉很无助。连我爱人都夸我买的很实用。坐新干线3个小时，我都在听它附带的mp3，掌握了一些常用的话，学了一些常用语气，同团的...\", \"true_label\": 1, \"predicted_label\": 1, \"is_correct\": true, \"response\": \"```json\\n{\\n  \\\"sentiment\\\": 1\\n}\\n```\"}, {\"qid\": 200, \"text\": \"地理位置不错，距离商业中心政治中心和黄河都很近。 但是服务太差，连东部地区的三星都不如。 1。白天门童公然和闲人说话而不招呼客人 2。在酒店住了2天，没有一个服务人员遇到的时候主动说“你好” 3。早餐...\", \"true_label\": 0, \"predicted_label\": 0, \"is_correct\": true, \"response\": \"```json\\n{\\n  \\\"sentiment\\\": 0\\n}\\n```\"}, {\"qid\": 435, \"text\": \"我用的EX400,这次帮同学选这款，感觉两个都很不错，这款屏幕大，爽。\", \"true_label\": 1, \"predicted_label\": 1, \"is_correct\": true, \"response\": \"```json\\n{\\n  \\\"sentiment\\\": 1\\n}\\n```\"}, {\"qid\": 1188, \"text\": \"估计是出差这个月住的酒店里面最差的了酒店，可以说甚至连如家之类都不如，价格是328，含早餐，开始给个9楼，打开电梯就知道错了，脏兮兮的地毯，房间门破破烂烂，还打不开，撤！下面前台的还问怎么了，后来要给...\", \"true_label\": 0, \"predicted_label\": 0, \"is_correct\": true, \"response\": \"```json\\n{\\n  \\\"sentiment\\\": 0\\n}\\n```\"}, {\"qid\": 120, \"text\": \"刚刚从海天回来,住的东楼15楼的标房,窗户很大,坐在窗边朝左是海景,朝右是山景,海天酒店夹在东海路和香港西路之间,风景很是不错.如果选择住在香港路附近的,这家无疑是窗外景色最美的了.床和枕头都挺舒服的...\", \"true_label\": 1, \"predicted_label\": 1, \"is_correct\": true, \"response\": \"```json\\n{\\n  \\\"sentiment\\\": 1\\n}\\n```\"}, {\"qid\": 1193, \"text\": \"住过不少三、四星级的酒店，青海宾馆是最让人失望的一家。看到网上的照片还不错，实际上相差很大。酒店比较陈旧，无论是房间的颜色还是房间内的家具设施，感觉象是一个90年代的招待所。我订的是大床间，床直对着厕...\", \"true_label\": 0, \"predicted_label\": 0, \"is_correct\": true, \"response\": \"```json\\n{\\n  \\\"sentiment\\\": 0\\n}\\n```\"}, {\"qid\": 117, \"text\": \"下午收到货，因为加班，晚上11点才休息。累了一天的我，趟在床上迫不及待的打开了书的包装，展现在眼前的是一本精致得象艺术品的书，图文并茂的把各式美食展呈现我眼前。一口气，都看了个遍，用纸条把我最心动的菜...\", \"true_label\": 1, \"predicted_label\": 1, \"is_correct\": true, \"response\": \"```json\\n{\\n  \\\"sentiment\\\": 1\\n}\\n```\"}, {\"qid\": 1042, \"text\": \"怎么看下去会一段后故事还没结束，又说了其他事，后又接上前段事。有时另我一塌胡涂，要看前段说了什么，才接下去看。是不是印刷错了啊？\", \"true_label\": 0, \"predicted_label\": 0, \"is_correct\": true, \"response\": \"```json\\n{\\n  \\\"sentiment\\\": 0\\n}\\n```\"}, {\"qid\": 1088, \"text\": \"1. 早餐很差。 2. 服务态度很差。 3.地理位置也不好。周围没有什么吃的。 综合来说， 很差。 我是2008年4月28日入住的。\", \"true_label\": 0, \"predicted_label\": 0, \"is_correct\": true, \"response\": \"```json\\n{\\n  \\\"sentiment\\\": 0\\n}\\n```\"}, {\"qid\": 290, \"text\": \"散热效果不错，功耗很低，配置较高，运行时声音很小， 屏幕挺舒服的，\", \"true_label\": 1, \"predicted_label\": 1, \"is_correct\": true, \"response\": \"```json\\n{\\n  \\\"sentiment\\\": 1\\n}\\n```\"}, {\"qid\": 31, \"text\": \"房间太旧,太吵.洗手间没有热水,建议携程取消和其合作. 补充点评 2007年11月11日 ： 服务态度恶劣,言语不是太冲就是冷冰冰的,房间设施陈旧.卫生间小.\", \"true_label\": 0, \"predicted_label\": 0, \"is_correct\": true, \"response\": \"```json\\n{\\n  \\\"sentiment\\\": 0\\n}\\n```\"}, {\"qid\": 545, \"text\": \"就c一个分区 还有10g的隐藏分区，哎 不过现在的本都这样，硬盘一定要换一个大的\", \"true_label\": 0, \"predicted_label\": 0, \"is_correct\": true, \"response\": \"```json\\n{\\n  \\\"sentiment\\\": 0\\n}\\n```\"}, {\"qid\": 859, \"text\": \"通过携程报的自由行带小孩去香港。住过旺角的朗豪，因为还是喜欢尖沙咀所以最后选择朗庭。酒店大堂不错，不知道为什么那么多人嫌小。很幸运被升级，当时订了两个房间可是另外一个没有好。前台小姐送我们每个房间10...\", \"true_label\": 1, \"predicted_label\": 1, \"is_correct\": true, \"response\": \"```json\\n{\\n  \\\"sentiment\\\": 1\\n}\\n```\"}, {\"qid\": 403, \"text\": \"官方给的驱动是在是不敢恭维，刚买来的机子就已经玩游戏很卡了，害我自己到显卡的官方网下载最新的，之后就玩起来比较爽。\", \"true_label\": 0, \"predicted_label\": 0, \"is_correct\": true, \"response\": \"```json\\n{\\n  \\\"sentiment\\\": 0\\n}\\n```\"}, {\"qid\": 986, \"text\": \"感觉刻录的时候声音比较大，还有就是搞系统的时候挺麻烦。希望能提供相应的驱动什么的，省的要装的人都找不到下载的地方。\", \"true_label\": 0, \"predicted_label\": 0, \"is_correct\": true, \"response\": \"```json\\n{\\n  \\\"sentiment\\\": 0\\n}\\n```\"}, {\"qid\": 987, \"text\": \"整体性能还是不错的，如果DDR是3代就好了，还有内存，顺便问下，内存可以在哪升级，我想升级到四代。\", \"true_label\": 1, \"predicted_label\": 1, \"is_correct\": true, \"response\": \"```json\\n{\\n  \\\"sentiment\\\": 1\\n}\\n```\"}, {\"qid\": 507, \"text\": \"作为一本屹立不倒的经典教材，纽摄所传授的不是单纯的技术，而是理念。不是教条的灌输，而是互动性的思考。从书的内容上品评，虽说部分内容对于数码影像发达的今天有些过时，但是，摄影作为一门技术性行业的本质是不...\", \"true_label\": 1, \"predicted_label\": 1, \"is_correct\": true, \"response\": \"```json\\n{\\n  \\\"sentiment\\\": 1\\n}\\n```\"}, {\"qid\": 188, \"text\": \"书是很好的，但是当当网怎么搞的，一直很信任你们，这次把很旧的一本书给送过来，你们不会觉得不好意思吗？\", \"true_label\": 0, \"predicted_label\": 0, \"is_correct\": true, \"response\": \"```json\\n{\\n  \\\"sentiment\\\": 0\\n}\\n```\"}, {\"qid\": 208, \"text\": \"1、只有Dos系统，装Xp搞了我半天 2、外观部分颜色和所列图片不符 3、没有包\", \"true_label\": 0, \"predicted_label\": 0, \"is_correct\": true, \"response\": \"```json\\n{\\n  \\\"sentiment\\\": 0\\n}\\n```\"}, {\"qid\": 780, \"text\": \"全金属外壳的机器 SSD速度快 3芯电池够用 6芯会突出一块影响美观和携带\", \"true_label\": 1, \"predicted_label\": 1, \"is_correct\": true, \"response\": \"```json\\n{\\n  \\\"sentiment\\\": 1\\n}\\n```\"}, {\"qid\": 1094, \"text\": \"酒店离长途汽车站很近，走路5分钟就到了。整体环境不错，房间很干净。我住的是标准间，作为三星级酒店，我感觉很好了。服务态度很满意。沿着酒店大门前的路一直走就是鸣沙山。打车10元，公共汽车1元，酒店门口有...\", \"true_label\": 1, \"predicted_label\": 1, \"is_correct\": true, \"response\": \"```json\\n{\\n  \\\"sentiment\\\": 1\\n}\\n```\"}, {\"qid\": 1182, \"text\": \"1.散热好，非常好 2.屏幕很亮很清楚 3.觉得键盘也不错 4.摄像头非常清楚 5.最重要的一点，性价比高\", \"true_label\": 1, \"predicted_label\": 1, \"is_correct\": true, \"response\": \"```json\\n{\\n  \\\"sentiment\\\": 1\\n}\\n```\"}, {\"qid\": 1123, \"text\": \"颜色和样式呆板，散热口在左边左手不爽，右边没有USB，不带XP系统，不带包。\", \"true_label\": 0, \"predicted_label\": 0, \"is_correct\": true, \"response\": \"```json\\n{\\n  \\\"sentiment\\\": 0\\n}\\n```\"}], \"inference_time\": 131.67536902427673, \"metrics\": {\"accuracy\": 97.77, \"precision\": 100.0, \"recall\": 95.18, \"f1_score\": 97.53}}}\n",
      "comparison:      {\"accuracy\": {\"base\": 91.62, \"finetuned\": 97.77, \"improvement\": 6.15, \"improvement_percentage\": 6.71}, \"precision\": {\"base\": 98.57, \"finetuned\": 100.0, \"improvement\": 1.43, \"improvement_percentage\": 1.45}, \"recall\": {\"base\": 83.13, \"finetuned\": 95.18, \"improvement\": 12.05, \"improvement_percentage\": 14.5}, \"f1_score\": {\"base\": 90.2, \"finetuned\": 97.53, \"improvement\": 7.33, \"improvement_percentage\": 8.13}}\n",
      "\n",
      "📈 Evaluation results saved to: data/sentiment_comparison_results.json\n",
      "You can review this file to see the improvement from fine-tuning\n"
     ]
    }
   ]
  },
  {
   "cell_type": "markdown",
   "source": [
    "# Step 5: Upload Model to HuggingFace"
   ],
   "metadata": {
    "id": "rWFwbyik_b03"
   }
  },
  {
   "cell_type": "code",
   "source": [
    "print(\"\\n\" + \"=\" * 60)\n",
    "print(\"Step 5/5: Uploading Model to HuggingFace Hub\")\n",
    "print(\"=\" * 60)\n",
    "\n",
    "# 5.1 Locate model path\n",
    "import os\n",
    "import glob\n",
    "\n",
    "# Get current working directory (should be MSJ-Factory)\n",
    "current_dir = os.getcwd()\n",
    "print(f\"📍 Current directory: {current_dir}\")\n",
    "\n",
    "# Find the latest checkpoint (using relative path from current directory)\n",
    "model_base_path = \"saves/qwen2_5-coder-1.5b/freeze/sft\"\n",
    "checkpoint_pattern = os.path.join(model_base_path, \"checkpoint-*\")\n",
    "checkpoints = sorted(glob.glob(checkpoint_pattern))\n",
    "\n",
    "if checkpoints:\n",
    "    model_path = checkpoints[-1]  # Use the latest checkpoint\n",
    "    print(f\"📦 Found model checkpoint: {model_path}\")\n",
    "    print(f\"📁 Model files (showing first 10):\")\n",
    "    for file in os.listdir(model_path)[:10]:\n",
    "        print(f\"   - {file}\")\n",
    "else:\n",
    "    model_path = model_base_path\n",
    "    print(f\"⚠️  Using base model path: {model_path}\")\n",
    "\n",
    "# Verify the path exists\n",
    "if os.path.exists(model_path):\n",
    "    print(f\"✅ Model path verified: {model_path}\")\n",
    "else:\n",
    "    print(f\"❌ Error: Model path not found: {model_path}\")\n",
    "    print(\"Please check if training completed successfully\")\n",
    "\n",
    "# 5.2 Install HuggingFace Hub\n",
    "print(\"\\n📦 Installing huggingface_hub...\")\n",
    "!pip install -q huggingface_hub\n",
    "\n",
    "# 5.3 Login to HuggingFace\n",
    "from huggingface_hub import login, HfApi\n",
    "\n",
    "print(\"\\n🔐 HuggingFace Login\")\n",
    "print(\"=\" * 60)\n",
    "print(\"⚠️  Important Instructions:\")\n",
    "print(\"1. Visit https://huggingface.co/settings/tokens to get your Token\")\n",
    "print(\"2. Create a token with 'Write' permissions\")\n",
    "print(\"3. Replace YOUR_TOKEN_HERE below with your actual Token\")\n",
    "print(\"=\" * 60)\n",
    "\n",
    "# 🔑 Enter your HuggingFace Token here\n",
    "YOUR_HF_TOKEN = \"hf_YOUR_TOKEN_HERE\"  # ⚠️ Replace with your Token\n",
    "\n",
    "if YOUR_HF_TOKEN == \"hf_YOUR_TOKEN_HERE\":\n",
    "    print(\"\\n❌ Error: Please enter your HuggingFace Token first!\")\n",
    "    print(\"💡 Get it here: https://huggingface.co/settings/tokens\")\n",
    "else:\n",
    "    try:\n",
    "        login(token=YOUR_HF_TOKEN)\n",
    "        print(\"✅ Login successful!\")\n",
    "\n",
    "        # 5.4 Create repository and upload\n",
    "        api = HfApi()\n",
    "\n",
    "        # 🏷️ Customize your model repository name\n",
    "        YOUR_USERNAME = \"YourUsername\"  # ⚠️ Replace with your HuggingFace username\n",
    "        MODEL_NAME = \"Qwen2.5-Coder-Sentiment-Freeze\"\n",
    "        repo_id = f\"{YOUR_USERNAME}/{MODEL_NAME}\"\n",
    "\n",
    "        if YOUR_USERNAME == \"YourUsername\":\n",
    "            print(\"\\n❌ Error: Please enter your HuggingFace username first!\")\n",
    "        else:\n",
    "            print(f\"\\n📤 Preparing to upload to: {repo_id}\")\n",
    "\n",
    "            # Create repository\n",
    "            try:\n",
    "                api.create_repo(repo_id=repo_id, repo_type=\"model\", private=False)\n",
    "                print(f\"✅ Repository created: {repo_id}\")\n",
    "            except Exception as e:\n",
    "                print(f\"ℹ️  Repository might already exist: {e}\")\n",
    "\n",
    "            # Upload model\n",
    "            print(\"\\n⬆️  Uploading model files (this may take a few minutes)...\")\n",
    "            api.upload_folder(\n",
    "                folder_path=model_path,\n",
    "                repo_id=repo_id,\n",
    "                repo_type=\"model\",\n",
    "                commit_message=\"Upload freeze-trained Qwen2.5-Coder for sentiment analysis\"\n",
    "            )\n",
    "\n",
    "            print(\"\\n\" + \"=\" * 60)\n",
    "            print(\"🎉 Congratulations! Model uploaded successfully!\")\n",
    "            print(\"=\" * 60)\n",
    "            print(f\"🔗 Model URL: https://huggingface.co/{repo_id}\")\n",
    "            print(f\"📖 You can view and use your model at this link\")\n",
    "            print(\"=\" * 60)\n",
    "\n",
    "    except Exception as e:\n",
    "        print(f\"\\n❌ Login failed: {e}\")\n",
    "        print(\"Please check if your Token is correct\")"
   ],
   "metadata": {
    "id": "M3xwi2fJ_c3K"
   },
   "execution_count": null,
   "outputs": []
  }
 ]
}